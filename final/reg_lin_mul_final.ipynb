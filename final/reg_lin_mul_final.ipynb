{
  "cells": [
    {
      "cell_type": "markdown",
      "metadata": {
        "id": "W5IZ206si2h8"
      },
      "source": [
        "# Ejercicio de programación Regresión Lineal Multiple"
      ]
    },
    {
      "cell_type": "code",
      "execution_count": 1,
      "metadata": {
        "id": "TfxxT2n2i2iB"
      },
      "outputs": [],
      "source": [
        "# utilizado para manejos de directorios y rutas\n",
        "import os\n",
        "\n",
        "# Computacion vectorial y cientifica para python\n",
        "import numpy as np\n",
        "\n",
        "# Librerias para graficación (trazado de gráficos)\n",
        "from matplotlib import pyplot\n",
        "from mpl_toolkits.mplot3d import Axes3D  # Necesario para graficar superficies 3D\n",
        "\n",
        "# llama a matplotlib a embeber graficas dentro de los cuadernillos\n",
        "%matplotlib inline"
      ]
    },
    {
      "cell_type": "markdown",
      "metadata": {
        "id": "0luo4nxki2iD"
      },
      "source": [
        "## 2 Regresión lineal con multiples variables\n",
        "\n",
        "Se implementa la regresion lineal multivariable para predecir el precio de las casas. El archivo `Datasets/ex1data2.txt` contiene un conjunto de entrenamiento de precios de casas en Portland, Oregon. La primera columna es el tamaño de la casa en metros cuadrados, la segunda columna es el numero de cuartos, y la tercera columna es el precio de la casa. \n",
        "\n",
        "<a id=\"section4\"></a>\n",
        "### 2.1 Normalización de caracteristicas\n",
        "\n",
        "Al visualizar los datos se puede observar que las caracteristicas tienen diferentes magnitudes, por lo cual se debe transformar cada valor en una escala de valores similares, esto con el fin de que el descenso por el gradiente pueda converger mas rapidamente."
      ]
    },
    {
      "cell_type": "code",
      "execution_count": 5,
      "metadata": {
        "id": "FguulXhVi2iE",
        "outputId": "cb1a554d-a6f4-45cb-eae9-b3bba372d54e",
        "colab": {
          "base_uri": "https://localhost:8080/"
        }
      },
      "outputs": [
        {
          "output_type": "stream",
          "name": "stdout",
          "text": [
            "  X[:,0] X[:, 1]         y\n",
            "--------------------------\n",
            "   75523       3   7559082\n",
            "   80771      39   8085990\n",
            "   55712      58   5574642\n",
            "   32316      47   3232561\n",
            "   70429      19   7055052\n",
            "   39223      36   3926647\n",
            "   58682      10   5876376\n",
            "   86929     100   8696869\n",
            "   51522       3   5154055\n",
            "   39686      42   3970892\n"
          ]
        }
      ],
      "source": [
        "# Cargar datos\n",
        "data = np.loadtxt(os.path.join('ParisHousnssordenado.csv'), delimiter=';')\n",
        "X = data[:, :17]\n",
        "y = data[:, 16]\n",
        "m = y.size\n",
        "\n",
        "# imprimir algunos puntos de datos\n",
        "print('{:>8s}{:>8s}{:>10s}'.format('X[:,0]', 'X[:, 1]', 'y'))\n",
        "print('-'*26)\n",
        "for i in range(10):\n",
        "    print('{:8.0f}{:8.0f}{:10.0f}'.format(X[i, 0], X[i, 1], y[i]))"
      ]
    },
    {
      "cell_type": "markdown",
      "metadata": {
        "id": "x0VZqqG8i2iG"
      },
      "source": [
        "La desviación estándar es una forma de medir cuánta variación hay en el rango de valores de una característica en particular (la mayoría de los puntos caeran en un rango de ± 2 en relación a la desviaciones estándar de la media); esta es una alternativa a tomar el rango de valores (max-min). En `numpy`, se puede usar la función `std` para calcular la desviacion estandar. \n",
        "\n",
        "Por ejemplo, la caracteristica`X[:, 0]` contiene todos los valores de $x_1$ (tamaño de las casas) en el conjunto de entrenamiento, entonces `np.std(X[:, 0])` calcula la desviacion estandar de los tamaños de las casas.\n",
        "En el momento en que se llama a la función `featureNormalize`, la columna adicional de unos correspondiente a $ x_0 = 1 $ aún no se ha agregado a $ X $. \n",
        "\n",
        "<div class=\"alert alert-block alert-warning\">\n",
        "**Notas para la implementación:** Cuando se normalize una caracteristica, es importante almacenar los valores usados para la normalización - el valor de la media y el valor de la desviación estandar usado para los calculos. Despues de aprender los parametros del modelo, se deseara predecir los precios de casas que no se han visto antes. Dado un nuevo valor de x (area del living room y el numero de dormitorios), primero se debe normalizar x usando la media y la desviacion estandar que se empleo anteriormente en el conjunto de entrenamiento para entrenar el modelo.\n",
        "</div>\n",
        "<a id=\"featureNormalize\"></a>"
      ]
    },
    {
      "cell_type": "code",
      "execution_count": 6,
      "metadata": {
        "id": "sU46QqXmi2iG"
      },
      "outputs": [],
      "source": [
        "def  featureNormalize(X):\n",
        "    X_norm = X.copy()\n",
        "    mu = np.zeros(X.shape[1])\n",
        "    sigma = np.zeros(X.shape[1])\n",
        "\n",
        "    mu = np.mean(X, axis = 0)\n",
        "    sigma = np.std(X, axis = 0)\n",
        "    X_norm = (X - mu) / sigma\n",
        "    \n",
        "    return X_norm, mu, sigma"
      ]
    },
    {
      "cell_type": "code",
      "execution_count": 7,
      "metadata": {
        "id": "n5uXgNb9i2iH",
        "outputId": "c3756262-1abc-4eef-b639-8e6ca4531a53",
        "colab": {
          "base_uri": "https://localhost:8080/"
        }
      },
      "outputs": [
        {
          "output_type": "stream",
          "name": "stdout",
          "text": [
            "[[7.5523000e+04 3.0000000e+00 0.0000000e+00 ... 0.0000000e+00\n",
            "  7.0000000e+00 7.5590815e+06]\n",
            " [8.0771000e+04 3.9000000e+01 1.0000000e+00 ... 1.0000000e+00\n",
            "  2.0000000e+00 8.0859895e+06]\n",
            " [5.5712000e+04 5.8000000e+01 0.0000000e+00 ... 1.0000000e+00\n",
            "  9.0000000e+00 5.5746421e+06]\n",
            " ...\n",
            " [8.3841000e+04 3.0000000e+00 0.0000000e+00 ... 1.0000000e+00\n",
            "  9.0000000e+00 8.3900305e+06]\n",
            " [5.9036000e+04 7.0000000e+01 0.0000000e+00 ... 1.0000000e+00\n",
            "  4.0000000e+00 5.9051070e+06]\n",
            " [1.4400000e+03 8.4000000e+01 0.0000000e+00 ... 1.0000000e+00\n",
            "  6.0000000e+00 1.4670840e+05]]\n",
            "Media calculada: [4.98701312e+04 5.03584000e+01 5.08700000e-01 4.96800000e-01\n",
            " 5.02763000e+01 5.02254861e+04 5.51010000e+00 5.52170000e+00\n",
            " 2.00548850e+03 4.99100000e-01 4.99900000e-01 5.03310390e+03\n",
            " 5.02801060e+03 5.53121200e+02 5.03000000e-01 4.99460000e+00\n",
            " 4.99344753e+06]\n",
            "Desviación estandar calculada: [2.87729366e+04 2.88152555e+01 4.99924304e-01 4.99989760e-01\n",
            " 2.88877268e+01 2.90052254e+04 2.87188057e+00 2.85652396e+00\n",
            " 9.30762417e+00 4.99999190e-01 4.99999990e-01 2.87658570e+03\n",
            " 2.89418749e+03 2.62037067e+02 4.99991000e-01 3.17625107e+00\n",
            " 2.87728024e+06]\n",
            "[[ 0.89156241 -1.64351831 -1.01755405 ... -1.00601811  0.63137326\n",
            "   0.89168721]\n",
            " [ 1.07395603 -0.39418009  0.98274878 ...  0.99401789 -0.9428096\n",
            "   1.07481431]\n",
            " [ 0.20303346  0.26519286 -1.01755405 ...  0.99401789  1.26104641\n",
            "   0.20199443]\n",
            " ...\n",
            " [ 1.18065352 -1.64351831 -1.01755405 ...  0.99401789  1.26104641\n",
            "   1.18048389]\n",
            " [ 0.31855868  0.68163893 -1.01755405 ...  0.99401789 -0.31313646\n",
            "   0.31684765]\n",
            " [-1.68318347  1.16749268 -1.01755405 ...  0.99401789  0.31653669\n",
            "  -1.6844863 ]]\n"
          ]
        }
      ],
      "source": [
        "# llama featureNormalize con los datos cargados\n",
        "X_norm, mu, sigma = featureNormalize(X)\n",
        "\n",
        "print(X)\n",
        "print('Media calculada:', mu)\n",
        "print('Desviación estandar calculada:', sigma)\n",
        "print(X_norm)"
      ]
    },
    {
      "cell_type": "markdown",
      "metadata": {
        "id": "9oPxWYAHi2iI"
      },
      "source": [
        "Despues de `featureNormalize` la funcion es provada, se añade el temino de interseccion a `X_norm`:"
      ]
    },
    {
      "cell_type": "code",
      "execution_count": 8,
      "metadata": {
        "id": "y5iJ_MAZi2iI"
      },
      "outputs": [],
      "source": [
        "# Añade el termino de interseccion a X\n",
        "# (Columna de unos para X0)\n",
        "X = np.concatenate([np.ones((m, 1)), X_norm], axis=1)"
      ]
    },
    {
      "cell_type": "code",
      "execution_count": 9,
      "metadata": {
        "id": "CZKDwmili2iJ",
        "outputId": "0f6826ce-f928-41e4-a457-24a51d187f4e",
        "colab": {
          "base_uri": "https://localhost:8080/"
        }
      },
      "outputs": [
        {
          "output_type": "stream",
          "name": "stdout",
          "text": [
            "[[ 1.          0.89156241 -1.64351831 ... -1.00601811  0.63137326\n",
            "   0.89168721]\n",
            " [ 1.          1.07395603 -0.39418009 ...  0.99401789 -0.9428096\n",
            "   1.07481431]\n",
            " [ 1.          0.20303346  0.26519286 ...  0.99401789  1.26104641\n",
            "   0.20199443]\n",
            " ...\n",
            " [ 1.          1.18065352 -1.64351831 ...  0.99401789  1.26104641\n",
            "   1.18048389]\n",
            " [ 1.          0.31855868  0.68163893 ...  0.99401789 -0.31313646\n",
            "   0.31684765]\n",
            " [ 1.         -1.68318347  1.16749268 ...  0.99401789  0.31653669\n",
            "  -1.6844863 ]]\n"
          ]
        }
      ],
      "source": [
        "print(X)"
      ]
    },
    {
      "cell_type": "markdown",
      "metadata": {
        "id": "9D45d3Zqi2iJ"
      },
      "source": [
        "<a id=\"section5\"></a>\n",
        "### 2.2 Descenso por el gradiente\n",
        "\n",
        "En el ejemplo anterior se implemento el descenso por el gradiente para un problema de regresion univariable. La unica diferencia es que ahora existe una caracteristica adicional en la matriz $X$. La función de hipótesis y la regla de actualización del descenso del gradiente por lotes permanecen sin cambios.\n",
        "\n",
        "La implementacion de las funciones `computeCostMulti` y `gradientDescentMulti` son similares a la funcion de costo y función de descenso por el gradiente de la regresión lineal multiple es similar al de la regresion lineal multivariable. Es importante garantizar que el codigo soporte cualquier numero de caracteristicas y esten bien vectorizadas.\n",
        "\n",
        "Se puede utilizar `shape`, propiedad de los arrays `numpy`, para identificar cuantas caracteristicas estan consideradas en el dataset.\n",
        "\n",
        "<div class=\"alert alert-block alert-warning\">\n",
        "**Nota de implementación:** En el caso de multivariables, la función de costo puede se escrita considerando la forma vectorizada de la siguiente manera:\n",
        "\n",
        "$$ J(\\theta) = \\frac{1}{2m}(X\\theta - \\vec{y})^T(X\\theta - \\vec{y}) $$\n",
        "\n",
        "donde:\n",
        "\n",
        "$$ X = \\begin{pmatrix}\n",
        "          - (x^{(1)})^T - \\\\\n",
        "          - (x^{(2)})^T - \\\\\n",
        "          \\vdots \\\\\n",
        "          - (x^{(m)})^T - \\\\ \\\\\n",
        "        \\end{pmatrix} \\qquad \\mathbf{y} = \\begin{bmatrix} y^{(1)} \\\\ y^{(2)} \\\\ \\vdots \\\\ y^{(m)} \\\\\\end{bmatrix}$$\n",
        "\n",
        "La version vectorizada es eficiente cuando se trabaja con herramientas de calculo numericos computacional como `numpy`. \n",
        "</div>\n",
        "\n",
        "<a id=\"computeCostMulti\"></a>"
      ]
    },
    {
      "cell_type": "code",
      "execution_count": 10,
      "metadata": {
        "id": "SgV7TJXji2iK"
      },
      "outputs": [],
      "source": [
        "def computeCostMulti(X, y, theta):\n",
        "    # Inicializa algunos valores utiles\n",
        "    m = y.shape[0] # numero de ejemplos de entrenamiento\n",
        "    \n",
        "    J = 0\n",
        "    \n",
        "    h = np.dot(X, theta)\n",
        "    \n",
        "    J = (1/(2 * m)) * np.sum(np.square(np.dot(X, theta) - y))\n",
        "    \n",
        "    return J\n"
      ]
    },
    {
      "cell_type": "code",
      "execution_count": 11,
      "metadata": {
        "id": "Jn4HCGTXi2iL"
      },
      "outputs": [],
      "source": [
        "def gradientDescentMulti(X, y, theta, alpha, num_iters):\n",
        "    \n",
        "    # Inicializa algunos valores \n",
        "    m = y.shape[0] # numero de ejemplos de entrenamiento\n",
        "    \n",
        "    # realiza una copia de theta, el cual será acutalizada por el descenso por el gradiente\n",
        "    theta = theta.copy()\n",
        "    \n",
        "    J_history = []\n",
        "    \n",
        "    for i in range(num_iters):\n",
        "        theta = theta - (alpha / m) * (np.dot(X, theta) - y).dot(X)\n",
        "        J_history.append(computeCostMulti(X, y, theta))\n",
        "    \n",
        "    return theta, J_history"
      ]
    },
    {
      "cell_type": "markdown",
      "metadata": {
        "id": "j1XJNQKfi2iL"
      },
      "source": [
        "#### 3.2.1 Seleccionando coheficientes de aprendizaje\n"
      ]
    },
    {
      "cell_type": "code",
      "execution_count": 20,
      "metadata": {
        "id": "M5-jrdhQi2iM",
        "outputId": "117fac3f-a1c7-42a0-f6ae-4250880c095c",
        "colab": {
          "base_uri": "https://localhost:8080/",
          "height": 394
        }
      },
      "outputs": [
        {
          "output_type": "stream",
          "name": "stdout",
          "text": [
            "theta calculado por el descenso por el gradiente: [ 4.99323195e+06  1.43863624e+06  4.85863935e+00  7.52025057e+02\n",
            "  7.43598910e+02  7.88091102e+02 -1.17156848e+01  6.89708508e+01\n",
            "  1.63816076e+00 -1.18273021e+01  3.84491318e+01  3.61911687e+01\n",
            " -3.74395399e+00 -6.60937498e+00  1.21852416e+01  4.55808401e+00\n",
            " -8.89551935e+00  1.43865109e+06]\n",
            "El precio predecido para una casa de 1650 sq-ft y 3 dormitorios (usando el descenso por el gradiente): $5362359\n"
          ]
        },
        {
          "output_type": "display_data",
          "data": {
            "text/plain": [
              "<Figure size 432x288 with 1 Axes>"
            ],
            "image/png": "[encoded data removed]"
          },
          "metadata": {
            "needs_background": "light"
          }
        }
      ],
      "source": [
        "# Elegir algun valor para alpha (probar varias alternativas)\n",
        "alpha = 0.01\n",
        "num_iters = 1000\n",
        "\n",
        "# inicializa theta y ejecuta el descenso por el gradiente\n",
        "theta = np.zeros(18)\n",
        "theta, J_history = gradientDescentMulti(X, y, theta, alpha, num_iters)\n",
        "\n",
        "# Grafica la convergencia del costo\n",
        "pyplot.plot(np.arange(len(J_history)), J_history, lw=2)\n",
        "pyplot.xlabel('Numero de iteraciones')\n",
        "pyplot.ylabel('Costo J')\n",
        "\n",
        "# Muestra los resultados del descenso por el gradiente\n",
        "print('theta calculado por el descenso por el gradiente: {:s}'.format(str(theta)))\n",
        "\n",
        "# Estimar el precio para una casa de 1650\n",
        "X_array = [1, 1650]\n",
        "X_array[1:18] = (X_array[1:18] - mu) / sigma\n",
        "price = np.dot(X_array, theta)   # Se debe cambiar esto\n",
        "\n",
        "print('El precio predecido para una casa de 1650 sq-ft y 3 dormitorios (usando el descenso por el gradiente): ${:.0f}'.format(price))"
      ]
    },
    {
      "cell_type": "code",
      "execution_count": 22,
      "metadata": {
        "id": "TgRGLFYmi2iM"
      },
      "outputs": [],
      "source": [
        "X_array = [1, 1650]\n",
        "X_array[1:3] = (X_array[1:18] - mu) / sigma"
      ]
    },
    {
      "cell_type": "code",
      "execution_count": 23,
      "metadata": {
        "id": "-jnR6OK3i2iM",
        "outputId": "3a5d71c2-fa27-4a96-ded2-23b6b6318785",
        "colab": {
          "base_uri": "https://localhost:8080/"
        }
      },
      "outputs": [
        {
          "output_type": "execute_result",
          "data": {
            "text/plain": [
              "[-1.6758849427779527,\n",
              " 55.513705234609816,\n",
              " 3299.4821134131416,\n",
              " 3299.073965726651,\n",
              " 55.37727881395391,\n",
              " -1.6747149998367645,\n",
              " 572.6177888479198,\n",
              " 575.6921088188078,\n",
              " -38.193258922360585,\n",
              " 3299.0071443956595,\n",
              " 3299.000265979838,\n",
              " -1.1760831232760953,\n",
              " -1.1671706177131203,\n",
              " 4.1859680858494,\n",
              " 3299.0533834952644,\n",
              " 517.9078622409369,\n",
              " -1.734901406118261]"
            ]
          },
          "metadata": {},
          "execution_count": 23
        }
      ],
      "source": [
        "X_array[1:18]"
      ]
    },
    {
      "cell_type": "markdown",
      "metadata": {
        "id": "leFFqccni2iN"
      },
      "source": [
        "<a id=\"section7\"></a>\n",
        "### 2.3 Ecuacion de la Normal\n",
        "\n",
        "Una manera de calcular rapidamente el modelo de una regresion lineal es:\n",
        "\n",
        "$$ \\theta = \\left( X^T X\\right)^{-1} X^T\\vec{y}$$\n",
        "\n",
        "Utilizando esta formula no requiere que se escale ninguna caracteristica, y se obtendra una solucion exacta con un solo calculo: no hay “bucles de convergencia” como en el descenso por el gradiente. \n",
        "\n",
        "Primero se recargan los datos para garantizar que las variables no esten modificadas. Recordar que no es necesario escalar las caracteristicas, se debe agregar la columna de unos a la matriz $X$ para tener el termino de intersección($\\theta_0$). "
      ]
    },
    {
      "cell_type": "code",
      "execution_count": 24,
      "metadata": {
        "id": "v-QHHUbvi2iN"
      },
      "outputs": [],
      "source": [
        "# Cargar datos\n",
        "data = np.loadtxt(os.path.join('ParisHousnssordenado.csv'), delimiter=';')\n",
        "X = data[:, :17]\n",
        "y = data[:, 16]\n",
        "m = y.size\n",
        "X = np.concatenate([np.ones((m, 1)), X], axis=1)"
      ]
    },
    {
      "cell_type": "code",
      "execution_count": 25,
      "metadata": {
        "id": "dQrIvXldi2iN"
      },
      "outputs": [],
      "source": [
        "def normalEqn(X, y):\n",
        "  \n",
        "    theta = np.zeros(X.shape[1])\n",
        "    \n",
        "    theta = np.dot(np.dot(np.linalg.inv(np.dot(X.T,X)),X.T),y)\n",
        "    \n",
        "    return theta"
      ]
    },
    {
      "cell_type": "code",
      "execution_count": 30,
      "metadata": {
        "id": "cTT-5dqli2iN",
        "outputId": "f8fb90d8-c00d-4e8a-e140-d6132ee61ba3",
        "colab": {
          "base_uri": "https://localhost:8080/"
        }
      },
      "outputs": [
        {
          "output_type": "stream",
          "name": "stdout",
          "text": [
            "Theta calculado a partir de la ecuación de la normal: [ 5.24471132e-02  5.03029469e-07 -9.53336894e-08  4.83562471e-05\n",
            " -1.46682578e-05  8.48738182e-08  6.67788047e-12 -1.89526872e-07\n",
            " -2.91443484e-07 -2.25371996e-05 -1.50410051e-06 -1.60519267e-06\n",
            " -1.00996500e-09  3.79100751e-10 -2.54476262e-09 -4.50936204e-06\n",
            " -7.73430202e-07  9.99999998e-01]\n",
            "Precio predecido para una cada de superficie de 1650 sq-ft y 3 dormitorios (usando la ecuación de la normal): $3147830\n"
          ]
        }
      ],
      "source": [
        "# Calcula los parametros con la ecuación de la normal\n",
        "theta = normalEqn(X, y);\n",
        "\n",
        "# Muestra los resultados optenidos a partir de la aplicación de la ecuación de la normal\n",
        "print('Theta calculado a partir de la ecuación de la normal: {:s}'.format(str(theta)));\n",
        "\n",
        "# Estimar el precio para una casa de superficie de 1650 sq-ft y tres dormitorios\n",
        "\n",
        "X_array = [1, 31421,29,0,1,68,67505,5,3,1999,1,1,8949,2080,630,0,5,3147829.9]\n",
        "price = np.dot(X_array, theta) \n",
        "\n",
        "print('Precio predecido para una cada de superficie de 1650 sq-ft y 3 dormitorios (usando la ecuación de la normal): ${:.0f}'.format(price))"
      ]
    }
  ],
  "metadata": {
    "kernelspec": {
      "display_name": "Python 3",
      "language": "python",
      "name": "python3"
    },
    "language_info": {
      "codemirror_mode": {
        "name": "ipython",
        "version": 3
      },
      "file_extension": ".py",
      "mimetype": "text/x-python",
      "name": "python",
      "nbconvert_exporter": "python",
      "pygments_lexer": "ipython3",
      "version": "3.8.3"
    },
    "colab": {
      "provenance": []
    }
  },
  "nbformat": 4,
  "nbformat_minor": 0
}