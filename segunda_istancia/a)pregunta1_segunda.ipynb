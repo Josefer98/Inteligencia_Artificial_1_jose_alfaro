{
  "nbformat": 4,
  "nbformat_minor": 0,
  "metadata": {
    "colab": {
      "provenance": []
    },
    "kernelspec": {
      "name": "python3",
      "display_name": "Python 3"
    },
    "language_info": {
      "name": "python"
    }
  },
  "cells": [
    {
      "cell_type": "code",
      "source": [
        "from heapq import heappush, heappop\n",
        "#se utilizó A* : algoritmo de busqueda en anchura y busqueda en profundidad(busacar caminos mas optimos)\n",
        "#heap: estrucuta de datos no ordenada nodo= valor monor o igual a su nodo hijo\n",
        "#heppush: insertar un elemento en una estructura de datos de tipo heap.\n",
        "#heappop: extraer el elemento de menor valor de una estructura de datos de tipo min-heap.\n",
        "# Función de heurística\n",
        "def dist_manhattan(pos1, pos2):  \n",
        "    x1, y1 = pos1\n",
        "    x2, y2 = pos2\n",
        "    return abs(x1 - x2) + abs(y1 - y2)\n",
        "#devuelve la distancia Manhattan entre las dos posiciones, que es la suma de la diferencia absoluta entre \n",
        "#las coordenadas x de ambas posiciones y la diferencia absoluta entre las coordenadas y de ambas posiciones. \n",
        "#Esta distancia es utilizada como una heurística en el algoritmo A* para estimar la distancia restante desde la posición actual hasta el objetivo.\n",
        "\n",
        "# Función para encontrar la ruta más corta\n",
        "def ruta_mas_corta(laberinto, inicio, objetivo):\n",
        "    # Inicializar cola de prioridad\n",
        "    cola = []\n",
        "    heappush(cola, (0, inicio))#se está agregando un par ordenado (0, inicio) a la lista \"cola\". El primer elemento del par ordenado (0) representa el valor de la heurística, \n",
        "                               #mientras que el segundo elemento (inicio) representa la posición actual en el laberinto.\n",
        "    # Inicializar diccionario de padres\n",
        "    padres = {}\n",
        "    # Inicializar diccionario de costos\n",
        "    costos = {inicio: 0}#distancia desde la posicion inicial hasta cada una de las posiicones del laberinto\n",
        "    # Mientras la cola no esté vacía\n",
        "    while cola:\n",
        "        # Extraer el nodo con la puntuación más baja\n",
        "        costo, nodo = heappop(cola)\n",
        "        # Revisar si es el objetivo\n",
        "        if nodo == objetivo:\n",
        "            # Devolver el camino encontrado\n",
        "            camino = []\n",
        "            while nodo != inicio:    #mientras nodo sea diferente a la pos inicial\n",
        "                camino.append(nodo)  #agrega pos actual a camino\n",
        "                nodo = padres[nodo]  #actualiza nodo(para que tenga la pos de donde se llego a la pos actual)padre(tiene todas las pos del lab)\n",
        "            camino.append(inicio)  #agrega la pos inicial a camino \n",
        "            return camino[::-1]    #devuelve la lista de camino recorrido\n",
        "        # Revisar todos los vecinos del nodo\n",
        "        #aqui se determina el mejor camino para llegar:\n",
        "        for vecino in vecinos(laberinto, nodo): #itera a través de los vecinos de la posición actual (almacenada en la variable \"nodo\").\n",
        "            # Calcular el costo total para llegar al vecino\n",
        "            nuevo_costo = costos[nodo] + 1 #calcula nuevo costo para cada vecino +1 \n",
        "            if vecino not in costos or nuevo_costo < costos[vecino]: #si vecino no visitado antes o costo menor al costo anterior asig al vecino\n",
        "                # Agregar el vecino a la cola de prioridad\n",
        "                costos[vecino] = nuevo_costo #actuliza costo del vecino \n",
        "                prioridad = nuevo_costo + dist_manhattan(vecino, objetivo)# suma del costo + dis_manjatan a la pos del objetivo\n",
        "                heappush(cola, (prioridad, vecino))#se agrega a la cola con prioridad\n",
        "                padres[vecino] = nodo #se registra la pos actual\n",
        "    # Si no se encuentra una solución\n",
        "    return None\n",
        "\n",
        "#Función para obtener los vecinos de un nodo\n",
        "def vecinos(laberinto, nodo): #obtener lista de posciones vecinos alrededor de una posición dada en el laberinto (nodo).\n",
        "    x, y = nodo  #asigana x/y de la poscion del nodo\n",
        "    vecinos = [(x-1, y), (x+1, y), (x, y-1), (x, y+1)] #genera lista de pos(arr,abj,izq,der) de la pos actual\n",
        "    vecinos = [(x, y) for x, y in vecinos if 0 <= x < len(laberinto) and 0 <= y < len(laberinto[0]) and laberinto[x][y] != 1] #se usa para usar \n",
        "                                                                                                            #las pos que esten dentro de los limites si 0 si y si es 1 no  \n",
        "    return vecinos\n",
        "\n",
        "# Laberinto de prueba\n",
        "laberinto = [\n",
        "    [0, 1, 0, 0, 0, 0],\n",
        "    [0, 1, 0, 1, 0, 0],\n",
        "    [0, 1, 0, 1, 1, 0],\n",
        "    [0, 1, 0, 1, 1, 0],\n",
        "    [0, 0, 0, 0, 1, 0]\n",
        "]\n",
        "\n",
        "# Punto de inicio y objetivo\n",
        "inicio = (0, 0)\n",
        "objetivo = (4, 5)\n",
        "\n",
        "# Obtener la ruta más corta\n",
        "camino = ruta_mas_corta(laberinto, inicio, objetivo)\n",
        "\n",
        "# Imprimir el camino\n",
        "print(\"Ruta más corta:\", camino)"
      ],
      "metadata": {
        "colab": {
          "base_uri": "https://localhost:8080/"
        },
        "id": "hlf3NpMwWHaM",
        "outputId": "56246e99-84ec-466a-8cc5-826fd7412ceb"
      },
      "execution_count": 17,
      "outputs": [
        {
          "output_type": "stream",
          "name": "stdout",
          "text": [
            "Ruta más corta: [(0, 0), (1, 0), (2, 0), (3, 0), (4, 0), (4, 1), (4, 2), (3, 2), (2, 2), (1, 2), (0, 2), (0, 3), (0, 4), (0, 5), (1, 5), (2, 5), (3, 5), (4, 5)]\n"
          ]
        }
      ]
    }
  ]
}