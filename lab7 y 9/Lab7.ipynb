{
  "cells": [
    {
      "cell_type": "code",
      "execution_count": 1,
      "metadata": {
        "id": "hbJB6XTFwhIF"
      },
      "outputs": [],
      "source": [
        "# utilizado para manejos de directorios y rutas\n",
        "import os\n",
        "\n",
        "# Computacion vectorial y cientifica para python\n",
        "import numpy as np\n",
        "\n",
        "# Librerias para graficación (trazado de gráficos)\n",
        "from matplotlib import pyplot\n",
        "from mpl_toolkits.mplot3d import Axes3D  # Necesario para graficar superficies 3D\n",
        "\n",
        "# llama a matplotlib a embeber graficas dentro de los cuadernillos\n",
        "%matplotlib inline"
      ]
    },
    {
      "cell_type": "code",
      "execution_count": 3,
      "metadata": {
        "id": "syxVo2G6wrkb"
      },
      "outputs": [],
      "source": [
        "# Leer datos separados por una coma\n",
        "data = np.loadtxt(os.path.join('corregido.csv'), delimiter=',')\n",
        "X, y = data[:, :49], data[:, 49]\n",
        "\n",
        "m = y.size  # m = numero de ejemplos de entrenamiento"
      ]
    },
    {
      "cell_type": "code",
      "execution_count": 4,
      "metadata": {
        "colab": {
          "base_uri": "https://localhost:8080/"
        },
        "id": "Y-Ly0z8Uwuuc",
        "outputId": "f4ae37e5-d7c1-4f9b-a792-f86e31daf2c9"
      },
      "outputs": [
        {
          "name": "stdout",
          "output_type": "stream",
          "text": [
            "[[1.000000e+00 2.558000e+03 1.506090e+03 ... 3.324319e+04 6.574000e+01\n",
            "  7.950000e+00]\n",
            " [2.000000e+00 2.232500e+04 7.911000e+01 ... 5.157204e+04 6.573000e+01\n",
            "  6.260000e+00]\n",
            " [3.000000e+00 1.150000e+02 1.449850e+03 ... 3.169284e+04 6.581000e+01\n",
            "  7.840000e+00]\n",
            " ...\n",
            " [2.020000e+02 1.400000e+01 2.514000e+01 ... 2.153050e+03 6.591000e+01\n",
            "  6.120000e+00]\n",
            " [2.030000e+02 1.000000e+01 9.600000e+01 ... 2.421430e+03 6.597000e+01\n",
            "  6.320000e+00]\n",
            " [2.040000e+02 1.100000e+01 7.730000e+00 ... 3.782680e+03 6.565000e+01\n",
            "  6.260000e+00]]\n",
            "[1. 0. 1. 1. 0. 1. 1. 0. 1. 1. 1. 0. 0. 0. 1. 1. 0. 0. 0. 0. 0. 0. 0. 0.\n",
            " 0. 0. 0. 0. 0. 0. 0. 0. 0. 0. 0. 0. 0. 0. 0. 0. 0. 0. 0. 0. 0. 0. 0. 0.\n",
            " 0. 0. 0. 0. 0. 0. 0. 0. 0. 0. 0. 0. 0. 0. 0. 0. 0. 0. 0. 0. 0. 0. 0. 0.\n",
            " 0. 0. 0. 0. 0. 0. 0. 0. 0. 0. 0. 0. 0. 0. 0. 0. 0. 0. 0. 0. 0. 0. 0. 0.\n",
            " 0. 0. 0. 0. 0. 0. 0. 0. 0. 0. 0. 0. 0. 0. 0. 0. 0. 0. 0. 0. 0. 0. 0. 0.\n",
            " 0. 0. 0. 0. 0. 0. 0. 0. 1. 0. 0. 0. 0. 0. 0. 0. 0. 0. 0. 0. 0. 0. 0. 0.\n",
            " 0. 0. 0. 0. 0. 0. 0. 0. 0. 0. 0. 0. 0. 0. 0. 0. 0. 0. 0. 0. 0. 0. 0. 0.\n",
            " 0. 0. 0. 0. 0. 0. 0. 0. 0. 0. 0. 0. 0. 0. 0. 0. 0. 0. 1. 0. 0. 0. 0. 0.\n",
            " 0. 0. 0. 1. 0. 0. 0. 0. 0. 0. 0. 0. 0. 0. 0. 1. 0. 0. 0. 0. 0. 0. 0. 0.\n",
            " 0. 0. 0. 0. 0. 0. 0. 0. 0. 0. 0. 0. 0. 0. 0. 0. 0. 0. 0. 0. 0. 0. 0. 0.\n",
            " 0. 0. 0. 0. 0. 0. 0. 0. 0. 0. 0. 0. 0. 0. 0. 0. 0. 0. 0. 0. 0. 0. 0. 0.\n",
            " 0. 0. 0. 0. 0. 0. 0. 0. 0. 0. 0. 0. 0. 0. 0. 0. 0. 0. 0. 0. 0. 0. 0. 0.\n",
            " 0. 0. 0. 0. 0. 0. 0. 0. 0. 0. 0. 0. 1. 0. 0. 0. 0. 0. 1. 0. 0. 1. 0. 1.\n",
            " 0. 0. 0. 0. 0. 0. 0. 0. 1. 0. 0. 0. 0. 0. 0. 0. 0. 0. 0. 0. 0. 0. 0. 0.\n",
            " 0. 0. 0. 0. 0. 0. 0. 0. 0. 0. 0. 0. 0. 0. 0. 0. 0. 0. 0. 0. 0. 0. 0. 0.\n",
            " 0. 0. 1. 0. 0. 0. 0. 0. 0. 0. 0. 0. 0. 0. 0. 0. 0. 0. 0. 0. 0. 0. 0. 0.\n",
            " 0. 0. 0. 0. 0. 0. 0. 0. 0. 0. 0. 0. 0. 0. 0. 0. 0. 0. 0. 0. 0. 0. 0. 0.\n",
            " 0. 0. 0. 0. 0. 0. 0. 0. 0. 0. 0. 0. 0. 0. 0. 0. 0. 0. 0. 0. 0. 0. 0. 0.\n",
            " 0. 0. 0. 0. 0. 0. 0. 0. 1. 0. 0. 0. 0. 0. 0. 0. 0. 0. 1. 0. 0. 0. 0. 0.\n",
            " 0. 0. 0. 0. 0. 0. 0. 0. 0. 0. 0. 0. 0. 0. 0. 0. 0. 0. 0. 0. 0. 0. 0. 0.\n",
            " 0. 0. 0. 0. 0. 0. 0. 0. 0. 0. 0. 0. 0. 0. 0. 1. 0. 1. 0. 0. 0. 0. 0. 0.\n",
            " 0. 0. 0. 0. 0. 0. 0. 0. 0. 0. 0. 0. 0. 0. 0. 0. 0. 0. 0. 0. 0. 0. 0. 0.\n",
            " 0. 0. 0. 0. 0. 0. 0. 0. 0. 0. 0. 0. 0. 0. 0. 0. 0. 0. 0. 1. 0. 0. 0. 0.\n",
            " 0. 0. 0. 0. 0. 0. 0. 0. 0. 0. 0. 0. 0. 0. 1. 0. 0. 1. 0. 1. 0. 0. 0. 0.\n",
            " 0. 0. 0. 1. 0. 0. 0. 0. 0. 0. 0. 0. 0. 0. 0. 0. 0. 0. 0. 0. 0. 0. 0. 0.\n",
            " 0. 0. 0. 0. 0. 0. 0. 0. 0. 0. 0. 0. 0. 0. 0. 0. 0. 0. 0. 0. 0. 0. 0. 0.\n",
            " 0. 0. 0. 0. 0. 0. 0. 0. 0. 0. 0. 0. 0. 0. 0. 0. 0. 0. 0. 0. 0. 0. 0. 0.\n",
            " 1. 1. 1. 0. 0. 0. 0. 0. 0. 0. 0. 1. 0. 0. 0. 0. 1. 0. 0. 0. 0. 0. 0. 0.\n",
            " 0. 0. 0. 0. 0. 0. 0. 0. 0. 0. 0. 0. 0. 0. 0. 0. 0. 0. 0. 0. 0. 0. 0. 0.\n",
            " 0. 0. 0. 0. 0. 0. 0. 0. 0. 0. 0. 0. 0. 0. 0. 0. 0. 0. 0. 0. 0. 0. 0. 0.\n",
            " 0. 0. 0. 0. 0. 0. 0. 0. 0. 0. 0. 0. 0. 0. 1. 0. 0. 0. 1. 0. 0. 0. 0. 0.\n",
            " 1. 0. 0. 0. 0. 0. 0. 0. 0. 0. 0. 1. 0. 0. 0. 0. 0. 0. 0. 0. 0. 0. 0. 0.\n",
            " 0. 0. 0. 0. 0. 0. 0. 0. 0. 0. 0. 1. 0. 0. 0. 0. 0. 0. 0. 0. 0. 0. 0. 0.\n",
            " 0. 0. 0. 0. 0. 0. 0. 0. 0. 0. 0. 0. 0. 0. 0. 0. 0. 0. 0. 0. 0. 0. 0. 0.\n",
            " 0. 0. 0. 0. 0. 0. 0. 0. 0. 0. 0. 0. 0. 0. 0. 0. 0. 0. 0. 0. 0. 0. 0. 0.\n",
            " 0. 0. 0. 0. 0. 0. 0. 0. 0. 0. 0. 0. 0. 0. 0. 0. 0. 1. 0. 0. 0. 0. 0. 0.\n",
            " 0. 0. 0. 0. 0. 0. 0. 0. 1. 0. 0. 0. 0. 0. 0. 0. 0. 0. 0. 0. 0. 0. 0. 0.\n",
            " 0. 0. 0. 0. 0. 0. 0. 0. 0. 0. 0. 0. 0. 0. 0. 0. 0. 0. 0. 0. 0. 0. 0. 0.\n",
            " 0. 0. 0. 0. 0. 0. 0. 0. 0. 0. 0. 0. 0. 0. 0. 0. 0. 0. 0. 0. 0. 0. 0. 0.\n",
            " 0.]\n",
            "937\n"
          ]
        }
      ],
      "source": [
        "print(X)\n",
        "print(y)\n",
        "print(m)"
      ]
    },
    {
      "cell_type": "code",
      "execution_count": 5,
      "metadata": {
        "id": "TsG7prgPwwex"
      },
      "outputs": [],
      "source": [
        "def plotData(x, y):\n",
        "    #Grafica los puntos x e y en una figura nueva. \n",
        "    \n",
        "    fig = pyplot.figure()  # abre una nueva figura\n",
        "    \n",
        "    pyplot.plot(x, y, 'ro', ms=10, mec='k')\n",
        "    pyplot.ylabel('Beneficio en $10,000')\n",
        "    pyplot.xlabel('Poblacion de una ciudad en 10,000s')"
      ]
    },
    {
      "cell_type": "code",
      "execution_count": 6,
      "metadata": {
        "colab": {
          "base_uri": "https://localhost:8080/",
          "height": 279
        },
        "id": "kNT0yIvEw5PT",
        "outputId": "6a234212-1400-4865-f734-8d627a5ded0a"
      },
      "outputs": [
        {
          "data": {
            "image/png": "[encoded data removed]",
            "text/plain": [
              "<Figure size 432x288 with 1 Axes>"
            ]
          },
          "metadata": {
            "needs_background": "light"
          },
          "output_type": "display_data"
        }
      ],
      "source": [
        "plotData(X, y)"
      ]
    },
    {
      "cell_type": "code",
      "execution_count": 10,
      "metadata": {
        "id": "NXp0OkHE20G6"
      },
      "outputs": [],
      "source": [
        "def normalizar(X):\n",
        "  X_nomr= X.copy()\n",
        "  mu=np.zeros(X.shape[1])\n",
        "  sigma=np.zeros(X.shape[1])\n",
        "\n",
        "  mu= np.mean(X, axis=0)\n",
        "  sigma=np.std(X, axis=0)\n",
        "  X_nomr=(X-mu)/sigma\n",
        "  return X_nomr, mu, sigma"
      ]
    },
    {
      "cell_type": "code",
      "execution_count": 11,
      "metadata": {
        "colab": {
          "base_uri": "https://localhost:8080/"
        },
        "id": "J38FS6884xAR",
        "outputId": "190386d5-bbcb-4377-a58e-21e89670c24b"
      },
      "outputs": [
        {
          "name": "stdout",
          "output_type": "stream",
          "text": [
            "[[1.000000e+00 2.558000e+03 1.506090e+03 ... 3.324319e+04 6.574000e+01\n",
            "  7.950000e+00]\n",
            " [2.000000e+00 2.232500e+04 7.911000e+01 ... 5.157204e+04 6.573000e+01\n",
            "  6.260000e+00]\n",
            " [3.000000e+00 1.150000e+02 1.449850e+03 ... 3.169284e+04 6.581000e+01\n",
            "  7.840000e+00]\n",
            " ...\n",
            " [2.020000e+02 1.400000e+01 2.514000e+01 ... 2.153050e+03 6.591000e+01\n",
            "  6.120000e+00]\n",
            " [2.030000e+02 1.000000e+01 9.600000e+01 ... 2.421430e+03 6.597000e+01\n",
            "  6.320000e+00]\n",
            " [2.040000e+02 1.100000e+01 7.730000e+00 ... 3.782680e+03 6.565000e+01\n",
            "  6.260000e+00]]\n",
            "media:  [ 8.15880470e+01  3.32842049e+02  6.98707086e+02  8.70992209e+02\n",
            "  8.41216649e+01  7.69696379e+05  4.32427215e+01  9.12788687e+00\n",
            "  3.94071291e+03  2.21003202e-01  1.09892743e+02  2.51440768e-01\n",
            "  3.11216649e-01  4.84663821e-01  1.82892209e-01  3.01931697e-01\n",
            "  7.74125614e+01  3.11519210e+01  9.09039488e-01  2.28815368e-01\n",
            "  2.89316969e-01  7.60856243e+01  0.00000000e+00  6.42177161e-01\n",
            "  5.59910694e+02  5.78292423e-01  7.49819637e+00  6.08399146e-01\n",
            "  4.27110993e+00 -2.82842049e+00 -4.28868730e-01  1.82458911e+00\n",
            "  2.78548559e-03  1.82179296e+00  4.30864461e+01  2.43268943e+03\n",
            "  6.89434365e-03  3.12418570e+01  9.11899680e+01  6.05474920e+01\n",
            "  9.33928677e+02  4.27565582e+02  2.55435902e+02  1.06112519e+02\n",
            "  5.01400213e+00  1.28068303e-01  7.98571800e+03  6.16943863e+01\n",
            "  8.11972252e+00]\n",
            "desviacion:  [6.49420478e+01 1.93090738e+03 5.99645339e+02 5.22520275e+02\n",
            " 4.53375591e+01 3.82910612e+06 1.27116151e+01 3.58696228e+00\n",
            " 8.16306818e+03 9.02673427e-02 6.14280411e+01 8.80850162e-02\n",
            " 1.21321490e-01 2.16742939e-01 8.28988024e-02 2.04585646e-01\n",
            " 3.04167402e+02 1.52611832e+02 6.75131305e-01 7.53702002e-02\n",
            " 1.05310249e-01 2.29252296e+01 0.00000000e+00 2.99784979e-01\n",
            " 6.12132373e+02 7.01782506e-01 3.96584835e+00 8.44770465e-01\n",
            " 3.61747370e+00 1.62096677e+00 2.15501700e-01 6.38381313e-01\n",
            " 4.89617920e-02 6.43054169e-01 9.51165325e+01 5.21659169e+03\n",
            " 5.33434333e-03 3.15679794e+01 2.19726760e+01 1.38315115e+01\n",
            " 1.00114667e+03 7.15009801e+02 5.34021002e+02 1.35545321e+02\n",
            " 5.02646659e+00 3.34165846e-01 6.85084625e+03 1.04072492e+01\n",
            " 2.90734189e+00]\n",
            "[[-1.24092248  1.15238979  1.34643407 ...  3.68676672  0.38873035\n",
            "  -0.05837721]\n",
            " [-1.22552414 11.38954577 -1.03327258 ...  6.36218073  0.38776948\n",
            "  -0.6396642 ]\n",
            " [-1.21012579 -0.11281849  1.2526453  ...  3.46046621  0.39545643\n",
            "  -0.09621246]\n",
            " ...\n",
            " [ 1.85414469 -0.1651255  -1.12327578 ... -0.8513792   0.40506512\n",
            "  -0.68781815]\n",
            " [ 1.86954303 -0.16719707 -1.00510593 ... -0.81220448  0.41083033\n",
            "  -0.61902679]\n",
            " [ 1.88494138 -0.16667918 -1.15230961 ... -0.6135064   0.38008253\n",
            "  -0.6396642 ]]\n"
          ]
        },
        {
          "name": "stderr",
          "output_type": "stream",
          "text": [
            "/usr/local/lib/python3.7/dist-packages/ipykernel_launcher.py:8: RuntimeWarning: invalid value encountered in true_divide\n",
            "  \n"
          ]
        }
      ],
      "source": [
        "X_norm, mu, sigma=normalizar(X)\n",
        "print(X)\n",
        "print('media: ', mu)\n",
        "print('desviacion: ', sigma)\n",
        "print(X_norm)"
      ]
    },
    {
      "cell_type": "code",
      "execution_count": 13,
      "metadata": {
        "colab": {
          "base_uri": "https://localhost:8080/"
        },
        "id": "ESiC8W0wxAbh",
        "outputId": "47cdb2b0-53bc-4865-b7ba-9c82c88edd49"
      },
      "outputs": [
        {
          "data": {
            "text/plain": [
              "(937, 50)"
            ]
          },
          "execution_count": 13,
          "metadata": {},
          "output_type": "execute_result"
        }
      ],
      "source": [
        "# Agrega una columna de unos a X. La funcion stack de numpy une matrices a lo largo de un eje dado.\n",
        "# El primer eje (eje = 0) se refiere a filas (ejemplos de entrenamiento)\n",
        "# y el segundo eje (eje = 1) se refiere a columnas (características).\n",
        "\n",
        "X = np.concatenate([np.ones((m, 1)), X_norm], axis=1)\n",
        "X.shape"
      ]
    },
    {
      "cell_type": "code",
      "execution_count": 14,
      "metadata": {
        "colab": {
          "base_uri": "https://localhost:8080/"
        },
        "id": "XOdNvZxCxCn7",
        "outputId": "4c3979a7-0de0-42ae-9b75-c571d6f8c66d"
      },
      "outputs": [
        {
          "name": "stdout",
          "output_type": "stream",
          "text": [
            "[[ 1.         -1.24092248  1.15238979 ...  3.68676672  0.38873035\n",
            "  -0.05837721]\n",
            " [ 1.         -1.22552414 11.38954577 ...  6.36218073  0.38776948\n",
            "  -0.6396642 ]\n",
            " [ 1.         -1.21012579 -0.11281849 ...  3.46046621  0.39545643\n",
            "  -0.09621246]\n",
            " ...\n",
            " [ 1.          1.85414469 -0.1651255  ... -0.8513792   0.40506512\n",
            "  -0.68781815]\n",
            " [ 1.          1.86954303 -0.16719707 ... -0.81220448  0.41083033\n",
            "  -0.61902679]\n",
            " [ 1.          1.88494138 -0.16667918 ... -0.6135064   0.38008253\n",
            "  -0.6396642 ]]\n"
          ]
        }
      ],
      "source": [
        "print(X)"
      ]
    },
    {
      "cell_type": "code",
      "execution_count": 15,
      "metadata": {
        "id": "_0Fp7PDjxEfh"
      },
      "outputs": [],
      "source": [
        "def computeCost(X, y, theta):\n",
        "    # inicializa algunos valores importantes\n",
        "    m = y.size  # numero de ejemplos de entrenamiento\n",
        "   \n",
        "    J = 0\n",
        "    h = np.dot(X, theta)\n",
        "    J = (1/(2 * m)) * np.sum(np.square(np.dot(X, theta) - y))\n",
        "    return J"
      ]
    },
    {
      "cell_type": "code",
      "execution_count": null,
      "metadata": {
        "id": "AT-8qKKQxIQT"
      },
      "outputs": [],
      "source": [
        "J = computeCost(X, y, theta=np.array([0.0, 0.0]))\n",
        "print('Con theta = [0, 0] \\n Costo calculado = %.2f' % J)\n",
        "print('Valor de costo esperado (aproximadamente) 32.07\\n')\n",
        "\n",
        "# pruebas adicionales de la función de costes\n",
        "J = computeCost(X, y, theta=np.array([-1, 2]))\n",
        "print('Con theta = [-1, 2]\\n Costo calculado = %.2f' % J)\n",
        "print('Valor de costo esperado (aproximadamente)  54.24')"
      ]
    },
    {
      "cell_type": "code",
      "execution_count": 16,
      "metadata": {
        "id": "Us7FznvexKYR"
      },
      "outputs": [],
      "source": [
        "def gradientDescent(X, y, theta, alpha, num_iters):\n",
        "        # Inicializa algunos valores importantes\n",
        "    m = y.shape[0]  # numero de ejemplos de entrenamiento\n",
        "    \n",
        "    # hace una copia de theta, para evitar cambiar la matriz original, \n",
        "    # ya que las matrices numpy se pasan por referencia a las funciones\n",
        "\n",
        "    theta = theta.copy()\n",
        "    \n",
        "    J_history = [] # Lista que se utiliza para almacenar el costo en cada iteración\n",
        "    \n",
        "    for i in range(num_iters):\n",
        "        theta = theta - (alpha / m) * (np.dot(X, theta) - y).dot(X)\n",
        "        # save the cost J in every iteration\n",
        "        J_history.append(computeCost(X, y, theta))\n",
        "    \n",
        "    return theta, J_history"
      ]
    },
    {
      "cell_type": "code",
      "execution_count": 18,
      "metadata": {
        "colab": {
          "base_uri": "https://localhost:8080/"
        },
        "id": "3jt05Z-txMNw",
        "outputId": "15a7ed2a-f70b-4481-d75d-d18434c52eda"
      },
      "outputs": [
        {
          "name": "stdout",
          "output_type": "stream",
          "text": [
            "nan\n",
            "Theta encontrada por descenso gradiente: nan, nan\n",
            "Valores theta esperados (aproximadamente): [-3.6303, 1.1664]\n"
          ]
        }
      ],
      "source": [
        "# inicializa los parametros de ajuste\n",
        "theta = np.zeros(50)\n",
        "\n",
        "# configuraciones para el descenso por el gradiente\n",
        "iterations = 15000\n",
        "alpha = 0.003\n",
        "\n",
        "theta, J_history = gradientDescent(X ,y, theta, alpha, iterations)\n",
        "print(J_history[-1])\n",
        "print('Theta encontrada por descenso gradiente: {:.4f}, {:.4f}'.format(*theta))\n",
        "print('Valores theta esperados (aproximadamente): [-3.6303, 1.1664]')"
      ]
    },
    {
      "cell_type": "code",
      "execution_count": 19,
      "metadata": {
        "colab": {
          "base_uri": "https://localhost:8080/",
          "height": 279
        },
        "id": "_DhBkIpsxOyi",
        "outputId": "757c0ff3-871a-465c-e577-810f40de172e"
      },
      "outputs": [
        {
          "data": {
            "image/png": "[encoded data removed]",
            "text/plain": [
              "<Figure size 432x288 with 1 Axes>"
            ]
          },
          "metadata": {
            "needs_background": "light"
          },
          "output_type": "display_data"
        }
      ],
      "source": [
        "# grafica la linea de ajuste\n",
        "plotData(X[:, 1], y)\n",
        "pyplot.plot(X[:, 1], np.dot(X, theta), '-')\n",
        "pyplot.legend(['Datos de entrenamiento', 'Regresión linear']);"
      ]
    },
    {
      "cell_type": "code",
      "execution_count": 26,
      "metadata": {
        "colab": {
          "base_uri": "https://localhost:8080/",
          "height": 307
        },
        "id": "3DvZhZN9xSyg",
        "outputId": "1af8eab3-f309-4d7f-e84a-967935eba208"
      },
      "outputs": [
        {
          "ename": "ValueError",
          "evalue": "ignored",
          "output_type": "error",
          "traceback": [
            "\u001b[0;31m---------------------------------------------------------------------------\u001b[0m",
            "\u001b[0;31mValueError\u001b[0m                                Traceback (most recent call last)",
            "\u001b[0;32m<ipython-input-26-59e2b8d0ef06>\u001b[0m in \u001b[0;36m<module>\u001b[0;34m\u001b[0m\n\u001b[1;32m      1\u001b[0m \u001b[0;31m# Predecir valores de beneficio para poblaciones de 35,000 y 70,000\u001b[0m\u001b[0;34m\u001b[0m\u001b[0;34m\u001b[0m\u001b[0;34m\u001b[0m\u001b[0m\n\u001b[0;32m----> 2\u001b[0;31m \u001b[0mpredict1\u001b[0m \u001b[0;34m=\u001b[0m \u001b[0mnp\u001b[0m\u001b[0;34m.\u001b[0m\u001b[0mdot\u001b[0m\u001b[0;34m(\u001b[0m\u001b[0;34m[\u001b[0m\u001b[0;36m1\u001b[0m\u001b[0;34m,\u001b[0m \u001b[0;36m1\u001b[0m\u001b[0;34m,\u001b[0m\u001b[0;36m2558\u001b[0m\u001b[0;34m,\u001b[0m\u001b[0;36m1506.09\u001b[0m\u001b[0;34m,\u001b[0m\u001b[0;36m456.63\u001b[0m\u001b[0;34m,\u001b[0m\u001b[0;36m90\u001b[0m\u001b[0;34m,\u001b[0m\u001b[0;36m6395000\u001b[0m\u001b[0;34m,\u001b[0m\u001b[0;36m40.88\u001b[0m\u001b[0;34m,\u001b[0m\u001b[0;36m7.89\u001b[0m\u001b[0;34m,\u001b[0m\u001b[0;36m29780\u001b[0m\u001b[0;34m,\u001b[0m\u001b[0;36m0.19\u001b[0m\u001b[0;34m,\u001b[0m\u001b[0;36m214.7\u001b[0m\u001b[0;34m,\u001b[0m\u001b[0;36m0.21\u001b[0m\u001b[0;34m,\u001b[0m\u001b[0;36m0.26\u001b[0m\u001b[0;34m,\u001b[0m\u001b[0;36m0.49\u001b[0m\u001b[0;34m,\u001b[0m\u001b[0;36m0.1\u001b[0m\u001b[0;34m,\u001b[0m\u001b[0;36m0.4\u001b[0m\u001b[0;34m,\u001b[0m\u001b[0;36m99.59\u001b[0m\u001b[0;34m,\u001b[0m\u001b[0;36m32.19\u001b[0m\u001b[0;34m,\u001b[0m\u001b[0;36m1.84\u001b[0m\u001b[0;34m,\u001b[0m\u001b[0;36m0.16\u001b[0m\u001b[0;34m,\u001b[0m\u001b[0;36m0.2\u001b[0m\u001b[0;34m,\u001b[0m\u001b[0;36m87.65\u001b[0m\u001b[0;34m,\u001b[0m\u001b[0;36m0\u001b[0m\u001b[0;34m,\u001b[0m\u001b[0;36m0.47\u001b[0m\u001b[0;34m,\u001b[0m\u001b[0;36m132.78\u001b[0m\u001b[0;34m,\u001b[0m\u001b[0;34m-\u001b[0m\u001b[0;36m0.01\u001b[0m\u001b[0;34m,\u001b[0m\u001b[0;36m3.78\u001b[0m\u001b[0;34m,\u001b[0m\u001b[0;36m0.22\u001b[0m\u001b[0;34m,\u001b[0m\u001b[0;36m3.2\u001b[0m\u001b[0;34m,\u001b[0m\u001b[0;34m-\u001b[0m\u001b[0;36m3.71\u001b[0m\u001b[0;34m,\u001b[0m\u001b[0;34m-\u001b[0m\u001b[0;36m0.18\u001b[0m\u001b[0;34m,\u001b[0m\u001b[0;36m2.19\u001b[0m\u001b[0;34m,\u001b[0m\u001b[0;36m0\u001b[0m\u001b[0;34m,\u001b[0m\u001b[0;36m2.19\u001b[0m\u001b[0;34m,\u001b[0m\u001b[0;36m310\u001b[0m\u001b[0;34m,\u001b[0m\u001b[0;36m16110\u001b[0m\u001b[0;34m,\u001b[0m\u001b[0;36m0\u001b[0m\u001b[0;34m,\u001b[0m\u001b[0;36m138.68\u001b[0m\u001b[0;34m,\u001b[0m\u001b[0;36m89\u001b[0m\u001b[0;34m,\u001b[0m\u001b[0;36m69\u001b[0m\u001b[0;34m,\u001b[0m\u001b[0;36m2850\u001b[0m\u001b[0;34m,\u001b[0m\u001b[0;36m1000\u001b[0m\u001b[0;34m,\u001b[0m\u001b[0;36m763.16\u001b[0m\u001b[0;34m,\u001b[0m\u001b[0;36m135.46\u001b[0m\u001b[0;34m,\u001b[0m\u001b[0;36m3.73\u001b[0m\u001b[0;34m,\u001b[0m\u001b[0;36m0\u001b[0m\u001b[0;34m,\u001b[0m\u001b[0;36m33243.19\u001b[0m\u001b[0;34m,\u001b[0m\u001b[0;36m65.74\u001b[0m\u001b[0;34m,\u001b[0m\u001b[0;36m7.95\u001b[0m\u001b[0;34m,\u001b[0m\u001b[...\n\u001b[0m\u001b[1;32m      3\u001b[0m \u001b[0mprint\u001b[0m\u001b[0;34m(\u001b[0m\u001b[0;34m'Para una población = 35,000, se predice un beneficio de {:.2f}\\n'\u001b[0m\u001b[0;34m.\u001b[0m\u001b[0mformat\u001b[0m\u001b[0;34m(\u001b[0m\u001b[0mpredict1\u001b[0m\u001b[0;34m*\u001b[0m\u001b[0;36m10000\u001b[0m\u001b[0;34m)\u001b[0m\u001b[0;34m)\u001b[0m\u001b[0;34m\u001b[0m\u001b[0;34m\u001b[0m\u001b[0m\n\u001b[1;32m      4\u001b[0m \u001b[0;34m\u001b[0m\u001b[0m\n\u001b[1;32m      5\u001b[0m \u001b[0;31m#predict2 = np.dot([1, 9], theta)\u001b[0m\u001b[0;34m\u001b[0m\u001b[0;34m\u001b[0m\u001b[0;34m\u001b[0m\u001b[0m\n",
            "\u001b[0;32m<__array_function__ internals>\u001b[0m in \u001b[0;36mdot\u001b[0;34m(*args, **kwargs)\u001b[0m\n",
            "\u001b[0;31mValueError\u001b[0m: shapes (51,) and (50,) not aligned: 51 (dim 0) != 50 (dim 0)"
          ]
        }
      ],
      "source": [
        "# Predecir valores de beneficio para poblaciones de 35,000 y 70,000\n",
        "predict1 = np.dot([1, 1,2558,1506.09,456.63,90,6395000,40.88,7.89,29780,0.19,214.7,0.21,0.26,0.49,0.1,0.4,99.59,32.19,1.84,0.16,0.2,87.65,0,0.47,132.78,-0.01,3.78,0.22,3.2,-3.71,-0.18,2.19,0,2.19,310,16110,0,138.68,89,69,2850,1000,763.16,135.46,3.73,0,33243.19,65.74,7.95,1], theta)\n",
        "print('Para una población = 35,000, se predice un beneficio de {:.2f}\\n'.format(predict1*10000))\n",
        "\n",
        "#predict2 = np.dot([1, 9], theta)\n",
        "#print('Para una población de = 70,000, se predice un beneficio de {:.2f}\\n'.format(predict2*10000))"
      ]
    }
  ],
  "metadata": {
    "colab": {
      "provenance": []
    },
    "kernelspec": {
      "display_name": "Python 3.11.0 64-bit",
      "language": "python",
      "name": "python3"
    },
    "language_info": {
      "name": "python",
      "version": "3.11.0"
    },
    "vscode": {
      "interpreter": {
        "hash": "1f1d98a5e716f463648805561c26db051cee53b95ffcd1384b703ab468c0efec"
      }
    }
  },
  "nbformat": 4,
  "nbformat_minor": 0
}
