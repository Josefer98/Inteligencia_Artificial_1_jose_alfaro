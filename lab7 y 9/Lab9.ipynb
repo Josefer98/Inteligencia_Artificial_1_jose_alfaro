{
  "nbformat": 4,
  "nbformat_minor": 0,
  "metadata": {
    "colab": {
      "provenance": []
    },
    "kernelspec": {
      "name": "python3",
      "display_name": "Python 3"
    },
    "language_info": {
      "name": "python"
    }
  },
  "cells": [
    {
      "cell_type": "code",
      "execution_count": 1,
      "metadata": {
        "id": "dqgSlil_9r7X"
      },
      "outputs": [],
      "source": [
        "# utilizado para manejos de directorios y rutas\n",
        "import os\n",
        "\n",
        "# Computacion vectorial y cientifica para python\n",
        "import numpy as np\n",
        "\n",
        "# Librerias para graficación (trazado de gráficos)\n",
        "from matplotlib import pyplot\n",
        "from mpl_toolkits.mplot3d import Axes3D  # Necesario para graficar superficies 3D\n",
        "\n",
        "# llama a matplotlib a embeber graficas dentro de los cuadernillos\n",
        "%matplotlib inline"
      ]
    },
    {
      "cell_type": "code",
      "source": [
        "# Cargar datos\n",
        "data = np.loadtxt(os.path.join('corregido.csv'), delimiter=',')\n",
        "X = data[:, :49]\n",
        "y = data[:, 49]\n",
        "m = y.size\n",
        "\n",
        "# imprimir algunos puntos de datos\n",
        "print('{:>8s}{:>8s}{:>10s}'.format('X[:,0]', 'X[:, 1]', 'y'))\n",
        "print('-'*26)\n",
        "for i in range(10):\n",
        "    print('{:8.0f}{:8.0f}{:10.0f}'.format(X[i, 0], X[i, 1], y[i]))"
      ],
      "metadata": {
        "colab": {
          "base_uri": "https://localhost:8080/"
        },
        "id": "iPPMytID_d7g",
        "outputId": "1f0419e0-5bcb-4620-85bc-dd1c0b95e07b"
      },
      "execution_count": 3,
      "outputs": [
        {
          "output_type": "stream",
          "name": "stdout",
          "text": [
            "  X[:,0] X[:, 1]         y\n",
            "--------------------------\n",
            "       1    2558         1\n",
            "       2   22325         0\n",
            "       3     115         1\n",
            "       4    1201         1\n",
            "       5     312         0\n",
            "       6      54         1\n",
            "       7     116         1\n",
            "       8      57         0\n",
            "       9     188         1\n",
            "      10      64         1\n"
          ]
        }
      ]
    },
    {
      "cell_type": "code",
      "source": [
        "def  featureNormalize(X):\n",
        "    X_norm = X.copy()\n",
        "    mu = np.zeros(X.shape[1])\n",
        "    sigma = np.zeros(X.shape[1])\n",
        "\n",
        "    mu = np.mean(X, axis = 0)\n",
        "    sigma = np.std(X, axis = 0)\n",
        "    X_norm = (X - mu) / sigma\n",
        "    \n",
        "    return X_norm, mu, sigma"
      ],
      "metadata": {
        "id": "BfRwgPd7_gnQ"
      },
      "execution_count": 4,
      "outputs": []
    },
    {
      "cell_type": "code",
      "source": [
        "# llama featureNormalize con los datos cargados\n",
        "X_norm, mu, sigma = featureNormalize(X)\n",
        "\n",
        "print(X)\n",
        "print('Media calculada:', mu)\n",
        "print('Desviación estandar calculada:', sigma)\n",
        "print(X_norm)"
      ],
      "metadata": {
        "colab": {
          "base_uri": "https://localhost:8080/"
        },
        "id": "O-RY4mxz_i1_",
        "outputId": "5e01323e-dac2-4c57-ace8-a084866f6d7d"
      },
      "execution_count": 5,
      "outputs": [
        {
          "output_type": "stream",
          "name": "stdout",
          "text": [
            "[[1.000000e+00 2.558000e+03 1.506090e+03 ... 3.324319e+04 6.574000e+01\n",
            "  7.950000e+00]\n",
            " [2.000000e+00 2.232500e+04 7.911000e+01 ... 5.157204e+04 6.573000e+01\n",
            "  6.260000e+00]\n",
            " [3.000000e+00 1.150000e+02 1.449850e+03 ... 3.169284e+04 6.581000e+01\n",
            "  7.840000e+00]\n",
            " ...\n",
            " [2.020000e+02 1.400000e+01 2.514000e+01 ... 2.153050e+03 6.591000e+01\n",
            "  6.120000e+00]\n",
            " [2.030000e+02 1.000000e+01 9.600000e+01 ... 2.421430e+03 6.597000e+01\n",
            "  6.320000e+00]\n",
            " [2.040000e+02 1.100000e+01 7.730000e+00 ... 3.782680e+03 6.565000e+01\n",
            "  6.260000e+00]]\n",
            "Media calculada: [ 8.15880470e+01  3.32842049e+02  6.98707086e+02  8.70992209e+02\n",
            "  8.41216649e+01  7.69696379e+05  4.32427215e+01  9.12788687e+00\n",
            "  3.94071291e+03  2.21003202e-01  1.09892743e+02  2.51440768e-01\n",
            "  3.11216649e-01  4.84663821e-01  1.82892209e-01  3.01931697e-01\n",
            "  7.74125614e+01  3.11519210e+01  9.09039488e-01  2.28815368e-01\n",
            "  2.89316969e-01  7.60856243e+01  0.00000000e+00  6.42177161e-01\n",
            "  5.59910694e+02  5.78292423e-01  7.49819637e+00  6.08399146e-01\n",
            "  4.27110993e+00 -2.82842049e+00 -4.28868730e-01  1.82458911e+00\n",
            "  2.78548559e-03  1.82179296e+00  4.30864461e+01  2.43268943e+03\n",
            "  6.89434365e-03  3.12418570e+01  9.11899680e+01  6.05474920e+01\n",
            "  9.33928677e+02  4.27565582e+02  2.55435902e+02  1.06112519e+02\n",
            "  5.01400213e+00  1.28068303e-01  7.98571800e+03  6.16943863e+01\n",
            "  8.11972252e+00]\n",
            "Desviación estandar calculada: [6.49420478e+01 1.93090738e+03 5.99645339e+02 5.22520275e+02\n",
            " 4.53375591e+01 3.82910612e+06 1.27116151e+01 3.58696228e+00\n",
            " 8.16306818e+03 9.02673427e-02 6.14280411e+01 8.80850162e-02\n",
            " 1.21321490e-01 2.16742939e-01 8.28988024e-02 2.04585646e-01\n",
            " 3.04167402e+02 1.52611832e+02 6.75131305e-01 7.53702002e-02\n",
            " 1.05310249e-01 2.29252296e+01 0.00000000e+00 2.99784979e-01\n",
            " 6.12132373e+02 7.01782506e-01 3.96584835e+00 8.44770465e-01\n",
            " 3.61747370e+00 1.62096677e+00 2.15501700e-01 6.38381313e-01\n",
            " 4.89617920e-02 6.43054169e-01 9.51165325e+01 5.21659169e+03\n",
            " 5.33434333e-03 3.15679794e+01 2.19726760e+01 1.38315115e+01\n",
            " 1.00114667e+03 7.15009801e+02 5.34021002e+02 1.35545321e+02\n",
            " 5.02646659e+00 3.34165846e-01 6.85084625e+03 1.04072492e+01\n",
            " 2.90734189e+00]\n",
            "[[-1.24092248  1.15238979  1.34643407 ...  3.68676672  0.38873035\n",
            "  -0.05837721]\n",
            " [-1.22552414 11.38954577 -1.03327258 ...  6.36218073  0.38776948\n",
            "  -0.6396642 ]\n",
            " [-1.21012579 -0.11281849  1.2526453  ...  3.46046621  0.39545643\n",
            "  -0.09621246]\n",
            " ...\n",
            " [ 1.85414469 -0.1651255  -1.12327578 ... -0.8513792   0.40506512\n",
            "  -0.68781815]\n",
            " [ 1.86954303 -0.16719707 -1.00510593 ... -0.81220448  0.41083033\n",
            "  -0.61902679]\n",
            " [ 1.88494138 -0.16667918 -1.15230961 ... -0.6135064   0.38008253\n",
            "  -0.6396642 ]]\n"
          ]
        },
        {
          "output_type": "stream",
          "name": "stderr",
          "text": [
            "/usr/local/lib/python3.7/dist-packages/ipykernel_launcher.py:8: RuntimeWarning: invalid value encountered in true_divide\n",
            "  \n"
          ]
        }
      ]
    },
    {
      "cell_type": "code",
      "source": [
        "# Añade el termino de interseccion a X\n",
        "# (Columna de unos para X0)\n",
        "X = np.concatenate([np.ones((m, 1)), X_norm], axis=1)"
      ],
      "metadata": {
        "id": "4tHTDMZW_lUw"
      },
      "execution_count": 6,
      "outputs": []
    },
    {
      "cell_type": "code",
      "source": [
        "print(X)"
      ],
      "metadata": {
        "colab": {
          "base_uri": "https://localhost:8080/"
        },
        "id": "-BL1gM8p_nb3",
        "outputId": "c7969990-3dc8-46e4-b0c1-797522b20a5c"
      },
      "execution_count": 7,
      "outputs": [
        {
          "output_type": "stream",
          "name": "stdout",
          "text": [
            "[[ 1.         -1.24092248  1.15238979 ...  3.68676672  0.38873035\n",
            "  -0.05837721]\n",
            " [ 1.         -1.22552414 11.38954577 ...  6.36218073  0.38776948\n",
            "  -0.6396642 ]\n",
            " [ 1.         -1.21012579 -0.11281849 ...  3.46046621  0.39545643\n",
            "  -0.09621246]\n",
            " ...\n",
            " [ 1.          1.85414469 -0.1651255  ... -0.8513792   0.40506512\n",
            "  -0.68781815]\n",
            " [ 1.          1.86954303 -0.16719707 ... -0.81220448  0.41083033\n",
            "  -0.61902679]\n",
            " [ 1.          1.88494138 -0.16667918 ... -0.6135064   0.38008253\n",
            "  -0.6396642 ]]\n"
          ]
        }
      ]
    },
    {
      "cell_type": "code",
      "source": [
        "def computeCostMulti(X, y, theta):\n",
        "    # Inicializa algunos valores utiles\n",
        "    m = y.shape[0] # numero de ejemplos de entrenamiento\n",
        "    \n",
        "    J = 0\n",
        "    \n",
        "    h = np.dot(X, theta)\n",
        "    \n",
        "    J = (1/(2 * m)) * np.sum(np.square(np.dot(X, theta) - y))\n",
        "    \n",
        "    return J"
      ],
      "metadata": {
        "id": "Zo5aI8GS_oB3"
      },
      "execution_count": 8,
      "outputs": []
    },
    {
      "cell_type": "code",
      "source": [
        "def gradientDescentMulti(X, y, theta, alpha, num_iters):\n",
        "    \n",
        "    # Inicializa algunos valores \n",
        "    m = y.shape[0] # numero de ejemplos de entrenamiento\n",
        "    \n",
        "    # realiza una copia de theta, el cual será acutalizada por el descenso por el gradiente\n",
        "    theta = theta.copy()\n",
        "    \n",
        "    J_history = []\n",
        "    \n",
        "    for i in range(num_iters):\n",
        "        theta = theta - (alpha / m) * (np.dot(X, theta) - y).dot(X)\n",
        "        J_history.append(computeCostMulti(X, y, theta))\n",
        "    \n",
        "    return theta, J_history"
      ],
      "metadata": {
        "id": "cV08EKPy_qrv"
      },
      "execution_count": 9,
      "outputs": []
    },
    {
      "cell_type": "code",
      "source": [
        "# Elegir algun valor para alpha (probar varias alternativas)\n",
        "alpha = 0.01\n",
        "num_iters = 1000\n",
        "\n",
        "# inicializa theta y ejecuta el descenso por el gradiente\n",
        "theta = np.zeros(50)\n",
        "theta, J_history = gradientDescentMulti(X, y, theta, alpha, num_iters)\n",
        "\n",
        "# Grafica la convergencia del costo\n",
        "pyplot.plot(np.arange(len(J_history)), J_history, lw=2)\n",
        "pyplot.xlabel('Numero de iteraciones')\n",
        "pyplot.ylabel('Costo J')\n",
        "\n",
        "# Muestra los resultados del descenso por el gradiente\n",
        "print('theta calculado por el descenso por el gradiente: {:s}'.format(str(theta)))\n",
        "\n",
        "# Estimar el precio para una casa de 1650 sq-ft, con 3 dormitorios\n",
        "X_array = [1, 1,2558,1506.09,456.63,90,6395000,40.88,7.89,29780,0.19,214.7,0.21,0.26,0.49,0.1,0.4,99.59,32.19,1.84,0.16,0.2,87.65,0,0.47,132.78,-0.01,3.78,0.22,3.2,-3.71,-0.18,2.19,0,2.19,310,16110,0,138.68,89,69,2850,1000,763.16,135.46,3.73,0,33243.19,65.74,7.95]\n",
        "X_array[1:50] = (X_array[1:50] - mu) / sigma\n",
        "price = np.dot(X_array, theta)   # Se debe cambiar esto\n",
        "\n",
        "print('El precio predecido para una casa de 1650 sq-ft y 3 dormitorios (usando el descenso por el gradiente): ${:.0f}'.format(price))"
      ],
      "metadata": {
        "colab": {
          "base_uri": "https://localhost:8080/",
          "height": 386
        },
        "id": "-R5HBO01_uSo",
        "outputId": "b0e62aee-1a41-4e64-d463-4177d9077361"
      },
      "execution_count": 15,
      "outputs": [
        {
          "output_type": "stream",
          "name": "stdout",
          "text": [
            "theta calculado por el descenso por el gradiente: [nan nan nan nan nan nan nan nan nan nan nan nan nan nan nan nan nan nan\n",
            " nan nan nan nan nan nan nan nan nan nan nan nan nan nan nan nan nan nan\n",
            " nan nan nan nan nan nan nan nan nan nan nan nan nan nan]\n",
            "El precio predecido para una casa de 1650 sq-ft y 3 dormitorios (usando el descenso por el gradiente): $nan\n"
          ]
        },
        {
          "output_type": "stream",
          "name": "stderr",
          "text": [
            "/usr/local/lib/python3.7/dist-packages/ipykernel_launcher.py:19: RuntimeWarning: invalid value encountered in true_divide\n"
          ]
        },
        {
          "output_type": "display_data",
          "data": {
            "text/plain": [
              "<Figure size 432x288 with 1 Axes>"
            ],
            "image/png": "[encoded data removed]"
          },
          "metadata": {
            "needs_background": "light"
          }
        }
      ]
    },
    {
      "cell_type": "code",
      "source": [
        "X_array = [1, 1,2558,1506.09,456.63,90,6395000,40.88,7.89,29780,0.19,214.7,0.21,0.26,0.49,0.1,0.4,99.59,32.19,1.84,0.16,0.2,87.65,0,0.47,132.78,-0.01,3.78,0.22,3.2,-3.71,-0.18,2.19,0,2.19,310,16110,0,138.68,89,69,2850,1000,763.16,135.46,3.73,0,33243.19,65.74,7.95]\n",
        "X_array[1:3] = (X_array[1:50] - mu) / sigma"
      ],
      "metadata": {
        "colab": {
          "base_uri": "https://localhost:8080/"
        },
        "id": "HI7sa2tKB6Xp",
        "outputId": "859315da-3c7d-42ff-fff3-8db0912b85a0"
      },
      "execution_count": 19,
      "outputs": [
        {
          "output_type": "stream",
          "name": "stderr",
          "text": [
            "/usr/local/lib/python3.7/dist-packages/ipykernel_launcher.py:2: RuntimeWarning: invalid value encountered in true_divide\n",
            "  \n"
          ]
        }
      ]
    },
    {
      "cell_type": "code",
      "source": [
        "X_array[1:50]"
      ],
      "metadata": {
        "colab": {
          "base_uri": "https://localhost:8080/"
        },
        "id": "ZxRLfaQ6CR5_",
        "outputId": "693aada1-7796-460c-f68d-26bdaa38720e"
      },
      "execution_count": 20,
      "outputs": [
        {
          "output_type": "execute_result",
          "data": {
            "text/plain": [
              "[-1.240922479683292,\n",
              " 1.1523897918738535,\n",
              " 1.3464340683429747,\n",
              " -0.793006948653837,\n",
              " 0.12965707071601754,\n",
              " 1.469090553133078,\n",
              " -0.18587106624101488,\n",
              " -0.34510730124788913,\n",
              " 3.165389107548287,\n",
              " -0.3434597804446608,\n",
              " 1.7061793810805443,\n",
              " -0.4704633114845127,\n",
              " -0.4221564441651356,\n",
              " 0.02461985296629276,\n",
              " -0.9999204670529378,\n",
              " 0.4793508481527986,\n",
              " 0.07291195065514486,\n",
              " 0.006802087104629673,\n",
              " 1.3789325205970762,\n",
              " -0.9130315160655398,\n",
              " -0.8481317821372001,\n",
              " 0.5044388152844844,\n",
              " nan,\n",
              " -0.5743355175735909,\n",
              " -0.6977750441264735,\n",
              " -0.838283111947657,\n",
              " -0.937553846686005,\n",
              " -0.45976885121951155,\n",
              " -0.29609335545322607,\n",
              " -0.5438603229765513,\n",
              " 1.1548341837413687,\n",
              " 0.5724022277637814,\n",
              " -0.05689100576111081,\n",
              " 0.5725910223203253,\n",
              " 2.8061741423550552,\n",
              " 2.6218863548485793,\n",
              " -1.2924446774667104,\n",
              " 3.4033899255155657,\n",
              " -0.0996677866141508,\n",
              " 0.611105155141036,\n",
              " 1.9138767322588557,\n",
              " 0.8005966041974779,\n",
              " 0.9507567983147716,\n",
              " 0.21651416065725976,\n",
              " -0.2554482580667034,\n",
              " -0.3832477331562431,\n",
              " 3.6867667246513585,\n",
              " 0.3887303523191323,\n",
              " -0.05837721370881134]"
            ]
          },
          "metadata": {},
          "execution_count": 20
        }
      ]
    }
  ]
}