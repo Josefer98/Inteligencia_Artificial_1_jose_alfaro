{
  "cells": [
    {
      "cell_type": "markdown",
      "metadata": {
        "id": "mLeBg7wIH7Ja"
      },
      "source": [
        "# Ejercicio de programación Regresión Lineal Multiple"
      ]
    },
    {
      "cell_type": "code",
      "execution_count": 1,
      "metadata": {
        "id": "16ch3OH_H7Je"
      },
      "outputs": [],
      "source": [
        "# utilizado para manejos de directorios y rutas\n",
        "import os\n",
        "\n",
        "# Computacion vectorial y cientifica para python\n",
        "import numpy as np\n",
        "\n",
        "# Librerias para graficación (trazado de gráficos)\n",
        "from matplotlib import pyplot\n",
        "from mpl_toolkits.mplot3d import Axes3D  # Necesario para graficar superficies 3D\n",
        "\n",
        "# llama a matplotlib a embeber graficas dentro de los cuadernillos\n",
        "%matplotlib inline"
      ]
    },
    {
      "cell_type": "markdown",
      "metadata": {
        "id": "ysX7JAZ7H7Jf"
      },
      "source": [
        "## 2 Regresión lineal con multiples variables\n",
        "\n",
        "Se implementa la regresion lineal multivariable para predecir el precio de las casas. El archivo `Datasets/ex1data2.txt` contiene un conjunto de entrenamiento de precios de casas en Portland, Oregon. La primera columna es el tamaño de la casa en metros cuadrados, la segunda columna es el numero de cuartos, y la tercera columna es el precio de la casa. \n",
        "\n",
        "<a id=\"section4\"></a>\n",
        "### 2.1 Normalización de caracteristicas\n",
        "\n",
        "Al visualizar los datos se puede observar que las caracteristicas tienen diferentes magnitudes, por lo cual se debe transformar cada valor en una escala de valores similares, esto con el fin de que el descenso por el gradiente pueda converger mas rapidamente."
      ]
    },
    {
      "cell_type": "code",
      "execution_count": 3,
      "metadata": {
        "colab": {
          "base_uri": "https://localhost:8080/"
        },
        "id": "YhB-SVpZH7Jg",
        "outputId": "7c6a4057-422b-4291-9558-872908bd36e6"
      },
      "outputs": [
        {
          "output_type": "stream",
          "name": "stdout",
          "text": [
            "  X[:,0] X[:, 1]         y\n",
            "--------------------------\n",
            "      35       3         1\n",
            "      27      20         2\n",
            "      30       0         3\n",
            "      28       0         4\n",
            "      68       4         5\n",
            "      34       0         6\n",
            "      58      15         7\n",
            "      22      12         8\n",
            "      45       2         9\n",
            "      52      18        11\n"
          ]
        }
      ],
      "source": [
        "# Cargar datos\n",
        "data = np.loadtxt(os.path.join('corregidocancer.csv'), delimiter=',')\n",
        "X = data[:, :5]\n",
        "y = data[:, 5]\n",
        "m = y.size\n",
        "\n",
        "# imprimir algunos puntos de datos\n",
        "print('{:>8s}{:>8s}{:>10s}'.format('X[:,0]', 'X[:, 1]', 'y'))\n",
        "print('-'*26)\n",
        "for i in range(10):\n",
        "    print('{:8.0f}{:8.0f}{:10.0f}'.format(X[i, 0], X[i, 1], y[i]))"
      ]
    },
    {
      "cell_type": "markdown",
      "metadata": {
        "id": "E2BgrTKmH7Jh"
      },
      "source": [
        "La desviación estándar es una forma de medir cuánta variación hay en el rango de valores de una característica en particular (la mayoría de los puntos caeran en un rango de ± 2 en relación a la desviaciones estándar de la media); esta es una alternativa a tomar el rango de valores (max-min). En `numpy`, se puede usar la función `std` para calcular la desviacion estandar. \n",
        "\n",
        "Por ejemplo, la caracteristica`X[:, 0]` contiene todos los valores de $x_1$ (tamaño de las casas) en el conjunto de entrenamiento, entonces `np.std(X[:, 0])` calcula la desviacion estandar de los tamaños de las casas.\n",
        "En el momento en que se llama a la función `featureNormalize`, la columna adicional de unos correspondiente a $ x_0 = 1 $ aún no se ha agregado a $ X $. \n",
        "\n",
        "<div class=\"alert alert-block alert-warning\">\n",
        "**Notas para la implementación:** Cuando se normalize una caracteristica, es importante almacenar los valores usados para la normalización - el valor de la media y el valor de la desviación estandar usado para los calculos. Despues de aprender los parametros del modelo, se deseara predecir los precios de casas que no se han visto antes. Dado un nuevo valor de x (area del living room y el numero de dormitorios), primero se debe normalizar x usando la media y la desviacion estandar que se empleo anteriormente en el conjunto de entrenamiento para entrenar el modelo.\n",
        "</div>\n",
        "<a id=\"featureNormalize\"></a>"
      ]
    },
    {
      "cell_type": "code",
      "execution_count": 4,
      "metadata": {
        "id": "vH_XWcpxH7Jh"
      },
      "outputs": [],
      "source": [
        "def  featureNormalize(X):\n",
        "    X_norm = X.copy()\n",
        "    mu = np.zeros(X.shape[1])\n",
        "    sigma = np.zeros(X.shape[1])\n",
        "\n",
        "    mu = np.mean(X, axis = 0)\n",
        "    sigma = np.std(X, axis = 0)\n",
        "    X_norm = (X - mu) / sigma\n",
        "    \n",
        "    return X_norm, mu, sigma"
      ]
    },
    {
      "cell_type": "code",
      "execution_count": 5,
      "metadata": {
        "colab": {
          "base_uri": "https://localhost:8080/"
        },
        "id": "ccW037UFH7Jh",
        "outputId": "2a679bda-049e-439c-8f59-212c9da28792"
      },
      "outputs": [
        {
          "output_type": "stream",
          "name": "stdout",
          "text": [
            "[[35.  3.  5.  4.  1.]\n",
            " [27. 20.  2.  5.  1.]\n",
            " [30.  0.  5.  2.  0.]\n",
            " [28.  0.  8.  1.  0.]\n",
            " [68.  4.  5.  6.  1.]\n",
            " [34.  0. 10.  0.  0.]\n",
            " [58. 15. 10.  0.  0.]\n",
            " [22. 12.  5.  2.  0.]\n",
            " [45.  2.  6.  0.  0.]\n",
            " [52. 18.  4.  5.  1.]\n",
            " [33.  4.  8.  0.  0.]\n",
            " [18. 10.  6.  3.  0.]\n",
            " [25.  2.  5.  1.  0.]\n",
            " [28. 20.  2.  8.  1.]\n",
            " [34. 25.  4.  8.  1.]\n",
            " [39. 18.  8.  1.  0.]\n",
            " [42. 22.  3.  5.  1.]\n",
            " [19. 12.  8.  0.  0.]\n",
            " [62.  5.  4.  3.  1.]\n",
            " [73. 10.  7.  6.  1.]\n",
            " [55. 15.  1.  3.  1.]\n",
            " [33.  8.  8.  1.  0.]\n",
            " [22. 20.  6.  2.  0.]\n",
            " [44.  5.  8.  1.  0.]\n",
            " [77.  3.  2.  6.  1.]\n",
            " [21. 20.  5.  3.  0.]\n",
            " [37. 15.  6.  2.  0.]\n",
            " [34. 12.  8.  0.  0.]\n",
            " [55. 20.  1.  4.  1.]\n",
            " [40. 20.  2.  7.  1.]\n",
            " [36. 13.  5.  2.  0.]\n",
            " [56. 20.  3.  3.  1.]\n",
            " [47. 15.  1.  8.  1.]\n",
            " [62. 25.  3.  4.  1.]\n",
            " [26. 10.  7.  2.  0.]\n",
            " [25. 20.  8.  2.  0.]\n",
            " [59. 20.  3.  4.  1.]\n",
            " [62. 15.  5.  5.  1.]\n",
            " [33. 25.  8.  2.  0.]\n",
            " [37. 10.  5.  3.  0.]\n",
            " [50. 20.  2.  4.  1.]\n",
            " [47. 12.  8.  0.  0.]\n",
            " [69. 20.  5.  4.  1.]\n",
            " [63. 20.  4.  5.  1.]\n",
            " [39. 15.  7.  2.  0.]\n",
            " [21. 20.  8.  3.  0.]\n",
            " [31. 20.  9.  4.  0.]\n",
            " [28. 10.  4.  1.  0.]\n",
            " [53. 20.  6.  3.  1.]\n",
            " [62. 20.  5.  6.  1.]\n",
            " [42. 12.  6.  2.  0.]\n",
            " [44. 30.  1.  6.  1.]\n",
            " [26. 34.  1.  8.  1.]\n",
            " [35. 20.  5.  1.  0.]\n",
            " [26. 13.  6.  1.  0.]\n",
            " [77. 20.  5.  4.  1.]\n",
            " [75. 15.  3.  5.  1.]\n",
            " [43. 30.  3.  8.  1.]\n",
            " [51. 25.  9.  0.  0.]]\n",
            "Media calculada: [42.62711864 15.06779661  5.20338983  3.23728814  0.47457627]\n",
            "Desviación estandar calculada: [16.09705553  7.91665142  2.44103105  2.36025697  0.49935322]\n",
            "[[-0.47382073 -1.52435619 -0.08332128  0.32314781  1.05220856]\n",
            " [-0.97080603  0.62301636 -1.31231015  0.74683049  1.05220856]\n",
            " [-0.78443655 -1.90330429 -0.08332128 -0.52421755 -0.95038193]\n",
            " [-0.90868287 -1.90330429  1.14566759 -0.94790023 -0.95038193]\n",
            " [ 1.57624364 -1.39804016 -0.08332128  1.17051317  1.05220856]\n",
            " [-0.5359439  -1.90330429  1.96499351 -1.37158291 -0.95038193]\n",
            " [ 0.95501201 -0.0085638   1.96499351 -1.37158291 -0.95038193]\n",
            " [-1.28142185 -0.3875119  -0.08332128 -0.52421755 -0.95038193]\n",
            " [ 0.14741089 -1.65067222  0.32634168 -1.37158291 -0.95038193]\n",
            " [ 0.58227303  0.3703843  -0.49298424  0.74683049  1.05220856]\n",
            " [-0.59806706 -1.39804016  1.14566759 -1.37158291 -0.95038193]\n",
            " [-1.5299145  -0.64014396  0.32634168 -0.10053487 -0.95038193]\n",
            " [-1.09505236 -1.65067222 -0.08332128 -0.94790023 -0.95038193]\n",
            " [-0.90868287  0.62301636 -1.31231015  2.01787853  1.05220856]\n",
            " [-0.5359439   1.25459653 -0.49298424  2.01787853  1.05220856]\n",
            " [-0.22532808  0.3703843   1.14566759 -0.94790023 -0.95038193]\n",
            " [-0.03895859  0.87564843 -0.9026472   0.74683049  1.05220856]\n",
            " [-1.46779134 -0.3875119   1.14566759 -1.37158291 -0.95038193]\n",
            " [ 1.20350466 -1.27172413 -0.49298424 -0.10053487  1.05220856]\n",
            " [ 1.88685945 -0.64014396  0.73600464  1.17051317  1.05220856]\n",
            " [ 0.76864252 -0.0085638  -1.72197311 -0.10053487  1.05220856]\n",
            " [-0.59806706 -0.89277603  1.14566759 -0.94790023 -0.95038193]\n",
            " [-1.28142185  0.62301636  0.32634168 -0.52421755 -0.95038193]\n",
            " [ 0.08528773 -1.27172413  1.14566759 -0.94790023 -0.95038193]\n",
            " [ 2.1353521  -1.52435619 -1.31231015  1.17051317  1.05220856]\n",
            " [-1.34354501  0.62301636 -0.08332128 -0.10053487 -0.95038193]\n",
            " [-0.34957441 -0.0085638   0.32634168 -0.52421755 -0.95038193]\n",
            " [-0.5359439  -0.3875119   1.14566759 -1.37158291 -0.95038193]\n",
            " [ 0.76864252  0.62301636 -1.72197311  0.32314781  1.05220856]\n",
            " [-0.16320492  0.62301636 -1.31231015  1.59419585  1.05220856]\n",
            " [-0.41169757 -0.26119586 -0.08332128 -0.52421755 -0.95038193]\n",
            " [ 0.83076568  0.62301636 -0.9026472  -0.10053487  1.05220856]\n",
            " [ 0.27165722 -0.0085638  -1.72197311  2.01787853  1.05220856]\n",
            " [ 1.20350466  1.25459653 -0.9026472   0.32314781  1.05220856]\n",
            " [-1.0329292  -0.64014396  0.73600464 -0.52421755 -0.95038193]\n",
            " [-1.09505236  0.62301636  1.14566759 -0.52421755 -0.95038193]\n",
            " [ 1.01713517  0.62301636 -0.9026472   0.32314781  1.05220856]\n",
            " [ 1.20350466 -0.0085638  -0.08332128  0.74683049  1.05220856]\n",
            " [-0.59806706  1.25459653  1.14566759 -0.52421755 -0.95038193]\n",
            " [-0.34957441 -0.64014396 -0.08332128 -0.10053487 -0.95038193]\n",
            " [ 0.45802671  0.62301636 -1.31231015  0.32314781  1.05220856]\n",
            " [ 0.27165722 -0.3875119   1.14566759 -1.37158291 -0.95038193]\n",
            " [ 1.6383668   0.62301636 -0.08332128  0.32314781  1.05220856]\n",
            " [ 1.26562782  0.62301636 -0.49298424  0.74683049  1.05220856]\n",
            " [-0.22532808 -0.0085638   0.73600464 -0.52421755 -0.95038193]\n",
            " [-1.34354501  0.62301636  1.14566759 -0.10053487 -0.95038193]\n",
            " [-0.72231338  0.62301636  1.55533055  0.32314781 -0.95038193]\n",
            " [-0.90868287 -0.64014396 -0.49298424 -0.94790023 -0.95038193]\n",
            " [ 0.6443962   0.62301636  0.32634168 -0.10053487  1.05220856]\n",
            " [ 1.20350466  0.62301636 -0.08332128  1.17051317  1.05220856]\n",
            " [-0.03895859 -0.3875119   0.32634168 -0.52421755 -0.95038193]\n",
            " [ 0.08528773  1.88617669 -1.72197311  1.17051317  1.05220856]\n",
            " [-1.0329292   2.39144082 -1.72197311  2.01787853  1.05220856]\n",
            " [-0.47382073  0.62301636 -0.08332128 -0.94790023 -0.95038193]\n",
            " [-1.0329292  -0.26119586  0.32634168 -0.94790023 -0.95038193]\n",
            " [ 2.1353521   0.62301636 -0.08332128  0.32314781  1.05220856]\n",
            " [ 2.01110578 -0.0085638  -0.9026472   0.74683049  1.05220856]\n",
            " [ 0.02316457  1.88617669 -0.9026472   2.01787853  1.05220856]\n",
            " [ 0.52014987  1.25459653  1.55533055 -1.37158291 -0.95038193]]\n"
          ]
        }
      ],
      "source": [
        "# llama featureNormalize con los datos cargados\n",
        "X_norm, mu, sigma = featureNormalize(X)\n",
        "\n",
        "print(X)\n",
        "print('Media calculada:', mu)\n",
        "print('Desviación estandar calculada:', sigma)\n",
        "print(X_norm)"
      ]
    },
    {
      "cell_type": "markdown",
      "metadata": {
        "id": "lOaI3xKSH7Ji"
      },
      "source": [
        "Despues de `featureNormalize` la funcion es provada, se añade el temino de interseccion a `X_norm`:"
      ]
    },
    {
      "cell_type": "code",
      "execution_count": 6,
      "metadata": {
        "id": "X7l7UXboH7Ji"
      },
      "outputs": [],
      "source": [
        "# Añade el termino de interseccion a X\n",
        "# (Columna de unos para X0)\n",
        "X = np.concatenate([np.ones((m, 1)), X_norm], axis=1)"
      ]
    },
    {
      "cell_type": "code",
      "execution_count": 7,
      "metadata": {
        "colab": {
          "base_uri": "https://localhost:8080/"
        },
        "id": "XtcA7J5IH7Jj",
        "outputId": "31fe5c7c-2d47-4d18-ca05-34ffa8a16a75"
      },
      "outputs": [
        {
          "output_type": "stream",
          "name": "stdout",
          "text": [
            "[[ 1.         -0.47382073 -1.52435619 -0.08332128  0.32314781  1.05220856]\n",
            " [ 1.         -0.97080603  0.62301636 -1.31231015  0.74683049  1.05220856]\n",
            " [ 1.         -0.78443655 -1.90330429 -0.08332128 -0.52421755 -0.95038193]\n",
            " [ 1.         -0.90868287 -1.90330429  1.14566759 -0.94790023 -0.95038193]\n",
            " [ 1.          1.57624364 -1.39804016 -0.08332128  1.17051317  1.05220856]\n",
            " [ 1.         -0.5359439  -1.90330429  1.96499351 -1.37158291 -0.95038193]\n",
            " [ 1.          0.95501201 -0.0085638   1.96499351 -1.37158291 -0.95038193]\n",
            " [ 1.         -1.28142185 -0.3875119  -0.08332128 -0.52421755 -0.95038193]\n",
            " [ 1.          0.14741089 -1.65067222  0.32634168 -1.37158291 -0.95038193]\n",
            " [ 1.          0.58227303  0.3703843  -0.49298424  0.74683049  1.05220856]\n",
            " [ 1.         -0.59806706 -1.39804016  1.14566759 -1.37158291 -0.95038193]\n",
            " [ 1.         -1.5299145  -0.64014396  0.32634168 -0.10053487 -0.95038193]\n",
            " [ 1.         -1.09505236 -1.65067222 -0.08332128 -0.94790023 -0.95038193]\n",
            " [ 1.         -0.90868287  0.62301636 -1.31231015  2.01787853  1.05220856]\n",
            " [ 1.         -0.5359439   1.25459653 -0.49298424  2.01787853  1.05220856]\n",
            " [ 1.         -0.22532808  0.3703843   1.14566759 -0.94790023 -0.95038193]\n",
            " [ 1.         -0.03895859  0.87564843 -0.9026472   0.74683049  1.05220856]\n",
            " [ 1.         -1.46779134 -0.3875119   1.14566759 -1.37158291 -0.95038193]\n",
            " [ 1.          1.20350466 -1.27172413 -0.49298424 -0.10053487  1.05220856]\n",
            " [ 1.          1.88685945 -0.64014396  0.73600464  1.17051317  1.05220856]\n",
            " [ 1.          0.76864252 -0.0085638  -1.72197311 -0.10053487  1.05220856]\n",
            " [ 1.         -0.59806706 -0.89277603  1.14566759 -0.94790023 -0.95038193]\n",
            " [ 1.         -1.28142185  0.62301636  0.32634168 -0.52421755 -0.95038193]\n",
            " [ 1.          0.08528773 -1.27172413  1.14566759 -0.94790023 -0.95038193]\n",
            " [ 1.          2.1353521  -1.52435619 -1.31231015  1.17051317  1.05220856]\n",
            " [ 1.         -1.34354501  0.62301636 -0.08332128 -0.10053487 -0.95038193]\n",
            " [ 1.         -0.34957441 -0.0085638   0.32634168 -0.52421755 -0.95038193]\n",
            " [ 1.         -0.5359439  -0.3875119   1.14566759 -1.37158291 -0.95038193]\n",
            " [ 1.          0.76864252  0.62301636 -1.72197311  0.32314781  1.05220856]\n",
            " [ 1.         -0.16320492  0.62301636 -1.31231015  1.59419585  1.05220856]\n",
            " [ 1.         -0.41169757 -0.26119586 -0.08332128 -0.52421755 -0.95038193]\n",
            " [ 1.          0.83076568  0.62301636 -0.9026472  -0.10053487  1.05220856]\n",
            " [ 1.          0.27165722 -0.0085638  -1.72197311  2.01787853  1.05220856]\n",
            " [ 1.          1.20350466  1.25459653 -0.9026472   0.32314781  1.05220856]\n",
            " [ 1.         -1.0329292  -0.64014396  0.73600464 -0.52421755 -0.95038193]\n",
            " [ 1.         -1.09505236  0.62301636  1.14566759 -0.52421755 -0.95038193]\n",
            " [ 1.          1.01713517  0.62301636 -0.9026472   0.32314781  1.05220856]\n",
            " [ 1.          1.20350466 -0.0085638  -0.08332128  0.74683049  1.05220856]\n",
            " [ 1.         -0.59806706  1.25459653  1.14566759 -0.52421755 -0.95038193]\n",
            " [ 1.         -0.34957441 -0.64014396 -0.08332128 -0.10053487 -0.95038193]\n",
            " [ 1.          0.45802671  0.62301636 -1.31231015  0.32314781  1.05220856]\n",
            " [ 1.          0.27165722 -0.3875119   1.14566759 -1.37158291 -0.95038193]\n",
            " [ 1.          1.6383668   0.62301636 -0.08332128  0.32314781  1.05220856]\n",
            " [ 1.          1.26562782  0.62301636 -0.49298424  0.74683049  1.05220856]\n",
            " [ 1.         -0.22532808 -0.0085638   0.73600464 -0.52421755 -0.95038193]\n",
            " [ 1.         -1.34354501  0.62301636  1.14566759 -0.10053487 -0.95038193]\n",
            " [ 1.         -0.72231338  0.62301636  1.55533055  0.32314781 -0.95038193]\n",
            " [ 1.         -0.90868287 -0.64014396 -0.49298424 -0.94790023 -0.95038193]\n",
            " [ 1.          0.6443962   0.62301636  0.32634168 -0.10053487  1.05220856]\n",
            " [ 1.          1.20350466  0.62301636 -0.08332128  1.17051317  1.05220856]\n",
            " [ 1.         -0.03895859 -0.3875119   0.32634168 -0.52421755 -0.95038193]\n",
            " [ 1.          0.08528773  1.88617669 -1.72197311  1.17051317  1.05220856]\n",
            " [ 1.         -1.0329292   2.39144082 -1.72197311  2.01787853  1.05220856]\n",
            " [ 1.         -0.47382073  0.62301636 -0.08332128 -0.94790023 -0.95038193]\n",
            " [ 1.         -1.0329292  -0.26119586  0.32634168 -0.94790023 -0.95038193]\n",
            " [ 1.          2.1353521   0.62301636 -0.08332128  0.32314781  1.05220856]\n",
            " [ 1.          2.01110578 -0.0085638  -0.9026472   0.74683049  1.05220856]\n",
            " [ 1.          0.02316457  1.88617669 -0.9026472   2.01787853  1.05220856]\n",
            " [ 1.          0.52014987  1.25459653  1.55533055 -1.37158291 -0.95038193]]\n"
          ]
        }
      ],
      "source": [
        "print(X)"
      ]
    },
    {
      "cell_type": "markdown",
      "metadata": {
        "id": "nRAM4uxJH7Jj"
      },
      "source": [
        "<a id=\"section5\"></a>\n",
        "### 2.2 Descenso por el gradiente\n",
        "\n",
        "En el ejemplo anterior se implemento el descenso por el gradiente para un problema de regresion univariable. La unica diferencia es que ahora existe una caracteristica adicional en la matriz $X$. La función de hipótesis y la regla de actualización del descenso del gradiente por lotes permanecen sin cambios.\n",
        "\n",
        "La implementacion de las funciones `computeCostMulti` y `gradientDescentMulti` son similares a la funcion de costo y función de descenso por el gradiente de la regresión lineal multiple es similar al de la regresion lineal multivariable. Es importante garantizar que el codigo soporte cualquier numero de caracteristicas y esten bien vectorizadas.\n",
        "\n",
        "Se puede utilizar `shape`, propiedad de los arrays `numpy`, para identificar cuantas caracteristicas estan consideradas en el dataset.\n",
        "\n",
        "<div class=\"alert alert-block alert-warning\">\n",
        "**Nota de implementación:** En el caso de multivariables, la función de costo puede se escrita considerando la forma vectorizada de la siguiente manera:\n",
        "\n",
        "$$ J(\\theta) = \\frac{1}{2m}(X\\theta - \\vec{y})^T(X\\theta - \\vec{y}) $$\n",
        "\n",
        "donde:\n",
        "\n",
        "$$ X = \\begin{pmatrix}\n",
        "          - (x^{(1)})^T - \\\\\n",
        "          - (x^{(2)})^T - \\\\\n",
        "          \\vdots \\\\\n",
        "          - (x^{(m)})^T - \\\\ \\\\\n",
        "        \\end{pmatrix} \\qquad \\mathbf{y} = \\begin{bmatrix} y^{(1)} \\\\ y^{(2)} \\\\ \\vdots \\\\ y^{(m)} \\\\\\end{bmatrix}$$\n",
        "\n",
        "La version vectorizada es eficiente cuando se trabaja con herramientas de calculo numericos computacional como `numpy`. \n",
        "</div>\n",
        "\n",
        "<a id=\"computeCostMulti\"></a>"
      ]
    },
    {
      "cell_type": "code",
      "execution_count": 8,
      "metadata": {
        "id": "djCc6VpNH7Jj"
      },
      "outputs": [],
      "source": [
        "def computeCostMulti(X, y, theta):\n",
        "    # Inicializa algunos valores utiles\n",
        "    m = y.shape[0] # numero de ejemplos de entrenamiento\n",
        "    \n",
        "    J = 0\n",
        "    \n",
        "    h = np.dot(X, theta)\n",
        "    \n",
        "    J = (1/(2 * m)) * np.sum(np.square(np.dot(X, theta) - y))\n",
        "    \n",
        "    return J\n"
      ]
    },
    {
      "cell_type": "code",
      "execution_count": 9,
      "metadata": {
        "id": "zWkcTXLoH7Jk"
      },
      "outputs": [],
      "source": [
        "def gradientDescentMulti(X, y, theta, alpha, num_iters):\n",
        "    \n",
        "    # Inicializa algunos valores \n",
        "    m = y.shape[0] # numero de ejemplos de entrenamiento\n",
        "    \n",
        "    # realiza una copia de theta, el cual será acutalizada por el descenso por el gradiente\n",
        "    theta = theta.copy()\n",
        "    \n",
        "    J_history = []\n",
        "    \n",
        "    for i in range(num_iters):\n",
        "        theta = theta - (alpha / m) * (np.dot(X, theta) - y).dot(X)\n",
        "        J_history.append(computeCostMulti(X, y, theta))\n",
        "    \n",
        "    return theta, J_history"
      ]
    },
    {
      "cell_type": "markdown",
      "metadata": {
        "id": "6AqEiqN7H7Jk"
      },
      "source": [
        "#### 3.2.1 Seleccionando coheficientes de aprendizaje\n"
      ]
    },
    {
      "cell_type": "code",
      "execution_count": 16,
      "metadata": {
        "colab": {
          "base_uri": "https://localhost:8080/",
          "height": 314
        },
        "id": "XpoTQxQ3H7Jk",
        "outputId": "74c1df0f-9f47-410e-a15a-8a5e1d203109"
      },
      "outputs": [
        {
          "output_type": "stream",
          "name": "stdout",
          "text": [
            "theta calculado por el descenso por el gradiente: [30.8461259   8.16520671 12.18266958 -2.31374513 -0.29573291 -9.12573281]\n",
            "El cancer predecido para la persona 3 es: (usando el descenso por el gradiente): $-1\n"
          ]
        },
        {
          "output_type": "display_data",
          "data": {
            "text/plain": [
              "<Figure size 432x288 with 1 Axes>"
            ],
            "image/png": "[encoded data removed]"
          },
          "metadata": {
            "needs_background": "light"
          }
        }
      ],
      "source": [
        "# Elegir algun valor para alpha (probar varias alternativas)\n",
        "alpha = 0.01\n",
        "num_iters = 1000\n",
        "\n",
        "# inicializa theta y ejecuta el descenso por el gradiente\n",
        "theta = np.zeros(6)\n",
        "theta, J_history = gradientDescentMulti(X, y, theta, alpha, num_iters)\n",
        "\n",
        "# Grafica la convergencia del costo\n",
        "pyplot.plot(np.arange(len(J_history)), J_history, lw=2)\n",
        "pyplot.xlabel('Numero de iteraciones')\n",
        "pyplot.ylabel('Costo J')\n",
        "\n",
        "# Muestra los resultados del descenso por el gradiente\n",
        "print('theta calculado por el descenso por el gradiente: {:s}'.format(str(theta)))\n",
        "\n",
        "# Estimar el precio para una casa de 1650 sq-ft, con 3 dormitorios\n",
        "X_array = [1, 35,3,5,4,1]\n",
        "X_array[1:6] = (X_array[1:6] - mu) / sigma\n",
        "price = np.dot(X_array, theta)   # Se debe cambiar esto\n",
        "\n",
        "print('El cancer predecido para la persona 3 es: (usando el descenso por el gradiente): ${:.0f}'.format(price))"
      ]
    },
    {
      "cell_type": "code",
      "execution_count": 17,
      "metadata": {
        "id": "cs2d3LPmH7Jk"
      },
      "outputs": [],
      "source": [
        "X_array = [1, 35,3,5,4,1]\n",
        "X_array[1:6] = (X_array[1:6] - mu) / sigma"
      ]
    },
    {
      "cell_type": "code",
      "execution_count": 19,
      "metadata": {
        "colab": {
          "base_uri": "https://localhost:8080/"
        },
        "id": "2oFBexBrH7Jl",
        "outputId": "2406a84e-ad44-4f86-ab07-9aac9f533029"
      },
      "outputs": [
        {
          "output_type": "execute_result",
          "data": {
            "text/plain": [
              "[-0.47382073256608276,\n",
              " -1.5243561915817927,\n",
              " -0.0833212796219327,\n",
              " 0.3231478066620522,\n",
              " 1.0522085616183026]"
            ]
          },
          "metadata": {},
          "execution_count": 19
        }
      ],
      "source": [
        "X_array[1:6]"
      ]
    },
    {
      "cell_type": "markdown",
      "metadata": {
        "id": "WvbznEJ_H7Jl"
      },
      "source": [
        "<a id=\"section7\"></a>\n",
        "### 2.3 Ecuacion de la Normal\n",
        "\n",
        "Una manera de calcular rapidamente el modelo de una regresion lineal es:\n",
        "\n",
        "$$ \\theta = \\left( X^T X\\right)^{-1} X^T\\vec{y}$$\n",
        "\n",
        "Utilizando esta formula no requiere que se escale ninguna caracteristica, y se obtendra una solucion exacta con un solo calculo: no hay “bucles de convergencia” como en el descenso por el gradiente. \n",
        "\n",
        "Primero se recargan los datos para garantizar que las variables no esten modificadas. Recordar que no es necesario escalar las caracteristicas, se debe agregar la columna de unos a la matriz $X$ para tener el termino de intersección($\\theta_0$). "
      ]
    },
    {
      "cell_type": "code",
      "execution_count": 21,
      "metadata": {
        "id": "L1zDoPTCH7Jl"
      },
      "outputs": [],
      "source": [
        "# Cargar datos\n",
        "data = np.loadtxt(os.path.join('corregidocancer.csv'), delimiter=',')\n",
        "X = data[:, :5]\n",
        "y = data[:, 5]\n",
        "m = y.size\n",
        "X = np.concatenate([np.ones((m, 1)), X], axis=1)"
      ]
    },
    {
      "cell_type": "code",
      "execution_count": 22,
      "metadata": {
        "id": "VXmDGedeH7Jl"
      },
      "outputs": [],
      "source": [
        "def normalEqn(X, y):\n",
        "  \n",
        "    theta = np.zeros(X.shape[1])\n",
        "    \n",
        "    theta = np.dot(np.dot(np.linalg.inv(np.dot(X.T,X)),X.T),y)\n",
        "    \n",
        "    return theta"
      ]
    },
    {
      "cell_type": "code",
      "execution_count": 24,
      "metadata": {
        "colab": {
          "base_uri": "https://localhost:8080/"
        },
        "id": "0ATM04XKH7Jl",
        "outputId": "903b6c0f-2d74-4706-8ba1-b78318ad1d6b"
      },
      "outputs": [
        {
          "output_type": "stream",
          "name": "stdout",
          "text": [
            "Theta calculado a partir de la ecuación de la normal: [ -1.03076041   0.67240261   1.55955646  -1.7661305    0.99686182\n",
            " -30.1757831 ]\n",
            "Precio predecido para una cada de superficie de 1650 sq-ft y 3 dormitorios (usando la ecuación de la normal): $-8\n"
          ]
        }
      ],
      "source": [
        "# Calcula los parametros con la ecuación de la normal\n",
        "theta = normalEqn(X, y);\n",
        "\n",
        "# Muestra los resultados optenidos a partir de la aplicación de la ecuación de la normal\n",
        "print('Theta calculado a partir de la ecuación de la normal: {:s}'.format(str(theta)));\n",
        "\n",
        "# Estimar el precio para una casa de superficie de 1650 sq-ft y tres dormitorios\n",
        "\n",
        "X_array = [1, 35,3,5,4,1]\n",
        "price = np.dot(X_array, theta) \n",
        "\n",
        "print('Precio predecido para una cada de superficie de 1650 sq-ft y 3 dormitorios (usando la ecuación de la normal): ${:.0f}'.format(price))"
      ]
    }
  ],
  "metadata": {
    "kernelspec": {
      "display_name": "Python 3",
      "language": "python",
      "name": "python3"
    },
    "language_info": {
      "codemirror_mode": {
        "name": "ipython",
        "version": 3
      },
      "file_extension": ".py",
      "mimetype": "text/x-python",
      "name": "python",
      "nbconvert_exporter": "python",
      "pygments_lexer": "ipython3",
      "version": "3.8.3"
    },
    "colab": {
      "provenance": []
    }
  },
  "nbformat": 4,
  "nbformat_minor": 0
}